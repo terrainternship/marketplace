{
  "cells": [
    {
      "cell_type": "markdown",
      "metadata": {
        "id": "QpT_aNJmpjxB"
      },
      "source": [
        "/v3/finance/transaction/totals — получите детальную информацию по итоговым суммам транзакций за указанный период:\n",
        "\n",
        "https://docs.ozon.ru/api/seller/#section/Poluchite-analiticheskie-otchyoty\n",
        "\n",
        "https://docs.ozon.ru/api/seller/#operation/FinanceAPI_FinanceTransactionTotalV3\n",
        "\n",
        "Описание метода: https://docs.ozon.ru/api/seller/#operation/AnalyticsAPI_AnalyticsGetData"
      ]
    },
    {
      "cell_type": "code",
      "source": [
        "import requests\n",
        "import pandas as pd\n",
        "## Подключение гугл диска\n",
        "from google.colab import drive\n",
        "drive.mount('/content/gdrive')"
      ],
      "metadata": {
        "colab": {
          "base_uri": "https://localhost:8080/"
        },
        "id": "o3-pn-peUaui",
        "outputId": "0fa64bb0-0230-4b80-b066-cbc236883b4c"
      },
      "execution_count": null,
      "outputs": [
        {
          "output_type": "stream",
          "name": "stdout",
          "text": [
            "Mounted at /content/gdrive\n"
          ]
        }
      ]
    },
    {
      "cell_type": "code",
      "execution_count": null,
      "metadata": {
        "id": "RJvwyjRYjlHU"
      },
      "outputs": [],
      "source": [
        "def analytics_data_day(date_from,date_to,id,key): #Данные по дням по продавцу, период не более года\n",
        "    url = \"https://api-seller.ozon.ru/v1/analytics/data\"\n",
        "\n",
        "    headers = {\n",
        "        \"Client-Id\": id,\n",
        "        \"Api-Key\": key,\n",
        "        \"Content-Type\": \"application/json\"\n",
        "    }\n",
        "\n",
        "    payload = {\n",
        "        \"date_from\": date_from,\n",
        "        \"date_to\": date_to,\n",
        "        \"metrics\": [\"hits_view_search\", # показы в поиске и в категории\n",
        "                    \"hits_view_pdp\",    # показы на карточке товара\n",
        "                    \"hits_tocart\",      # всего добавлено в корзину\n",
        "                    \"session_view\",     # всего сессий\n",
        "                    \"conv_tocart\",      # общая конверсия в корзину\n",
        "                    \"revenue\",          # заказано на сумму\n",
        "                    \"ordered_units\",    # заказано товаров\n",
        "                    \"cancellations\",    # отменено товаров,\n",
        "                    \"delivered_units\",  # доставлено товаров\n",
        "                    \"returns\",          # возвращено товаров\n",
        "                    \"adv_view_search_category\", # показы в поиске и в категории, спонсорские товары,\n",
        "                    \"adv_view_all\",     # показы всего, спонсорские товары,\n",
        "                    \"adv_sum_all\",      # всего расходов на рекламу\n",
        "                    \"position_category\" # позиция в поиске и категории\n",
        "                    ],\n",
        "        \"dimension\": [\"day\"],\n",
        "        \"filters\": [],\n",
        "        \"sort\": [ ],\n",
        "        \"limit\": 1000,\n",
        "        \"offset\": 0\n",
        "    }\n",
        "    # Создаем пустой датафрейм\n",
        "    df = pd.DataFrame()\n",
        "\n",
        "    # Пример POST-запроса к API OZON\n",
        "    response = requests.post(url, headers=headers, json=payload)\n",
        "\n",
        "    # Проверяем статус-код ответа\n",
        "    if response.status_code == 200:\n",
        "        print(\"analytics_data_day\",\"Client_Id:\",id,date_from,date_to,\"Запрос успешно выполнен!\")\n",
        "\n",
        "        # Преобразуем ответ в формат JSON\n",
        "        data = response.json()\n",
        "\n",
        "        # Извлекаем нужные данные из ответа\n",
        "        result_data = data[\"result\"][\"data\"]\n",
        "\n",
        "        # Добавляем данные в датафрейм\n",
        "        for item in result_data:\n",
        "            metrics = item[\"metrics\"]\n",
        "            row={'id':item[\"dimensions\"][0]['id']}\n",
        "            row.update({\"client_id\":                   id})\n",
        "            row.update({\"hits_view_search\":            metrics[0]})\n",
        "            row.update({\"hits_view_pdp\":               metrics[1]})\n",
        "            row.update({\"hits_tocart\":                 metrics[2]})\n",
        "            row.update({\"session_view\":                metrics[3]})\n",
        "            row.update({\"conv_tocart\":                 metrics[4]})\n",
        "            row.update({\"revenue\":                     metrics[5]})\n",
        "            row.update({\"ordered_units\":               metrics[6]})\n",
        "            row.update({\"cancellations\":               metrics[7]})\n",
        "            row.update({\"delivered_units\":             metrics[8]})\n",
        "            row.update({\"returns\":                     metrics[9]})\n",
        "            row.update({\"adv_view_search_category\":    metrics[10]})\n",
        "            row.update({\"adv_view_all\":                metrics[11]})\n",
        "            row.update({\"adv_sum_all\":                 metrics[12]})\n",
        "            row.update({\"position_category\":           metrics[13]})\n",
        "            df = pd.concat([df, pd.DataFrame([row])])\n",
        "\n",
        "        # Сбрасываем индексы датафрейма\n",
        "        df.reset_index(drop=True, inplace=True)\n",
        "\n",
        "    else:\n",
        "        print(\"Ошибка при выполнении запроса. Код статуса:\", response.status_code)\n",
        "        print(response.text)\n",
        "    return df"
      ]
    },
    {
      "cell_type": "code",
      "source": [
        "def rating_day(date_from,date_to,id,key): #Рейтинг по дням по продавцу, период не более квартала\n",
        "    \"\"\"\n",
        "    date_from=\"2023-06-01\"\n",
        "    date_to=\"2023-06-30\"\n",
        "    id=\"26652\"\n",
        "    key=\"6f40a57e-f3eb-4ae4-9943-76e203f3e26e\"\n",
        "    \"\"\"\n",
        "    url = \"https://api-seller.ozon.ru/v1/rating/history\"\n",
        "\n",
        "    headers = {\n",
        "        \"Client-Id\": id,\n",
        "        \"Api-Key\": key,\n",
        "        \"Content-Type\": \"application/json\"\n",
        "    }\n",
        "\n",
        "    payload = {\"date_from\": date_from+\"T00:00:00Z\",\n",
        "              \"date_to\": date_to+\"T23:59:59Z\",\n",
        "              \"ratings\": [\n",
        "                    \"rating_review_avg_score_total\",       # средняя оценка всех товаров.\n",
        "                    \"rating_price\",                        # индекс цен: отношение стоимости ваших товаров к самой низкой цене на такой же товар на других площадках.\n",
        "                    \"rating_order_cancellation\",           # процент отмен FBS#отправлений по вашей вине за последние 7 дней. Текущий и предыдущий день не учитываются.\n",
        "                    \"rating_shipment_delay\",               # процент FBS#отправлений, которые за последние 7 дней не были переданы в доставку по вашей вине. Текущий и предыдущий день не учитываются.\n",
        "                    \"rating_ssl\"                          # оценка работы по FBO. Учитывает rating_on_time_supply_delivery, rating_on_time_supply_cancellation и rating_order_accuracy.\n",
        "              ],\n",
        "              \"with_premium_scores\": True\n",
        "    }\n",
        "    '''\n",
        "                    \"rating_on_time\",                      # процент заказов, выполненных вовремя за последние 30 дней.\n",
        "                    \"rating_review_avg_score_total\",       # средняя оценка всех товаров.\n",
        "                    \"rating_price\",                        # индекс цен: отношение стоимости ваших товаров к самой низкой цене на такой же товар на других площадках.\n",
        "                    \"rating_order_cancellation\",           # процент отмен FBS#отправлений по вашей вине за последние 7 дней. Текущий и предыдущий день не учитываются.\n",
        "                    \"rating_shipment_delay\",               # процент FBS#отправлений, которые за последние 7 дней не были переданы в доставку по вашей вине. Текущий и предыдущий день не учитываются.\n",
        "                    \"rating_ssl\",                          # оценка работы по FBO. Учитывает rating_on_time_supply_delivery, rating_on_time_supply_cancellation и rating_order_accuracy.\n",
        "                    \"rating_on_time_supply_delivery\",      # процент поставок, которые вы привезли на склад в выбранный временной интервал за последние 60 дней.\n",
        "                    \"rating_order_accuracy\",               # процент поставок без излишков, недостач, пересорта и брака за последние 60 дней.\n",
        "                    \"rating_on_time_supply_cancellation\",  # процент заявок на поставку, которые завершились или были отменены без опоздания за последние 60 дней.\n",
        "                    \"rating_reaction_time\",                # время, в течение которого покупатели в среднем ждали ответа на своё первое сообщение в чате за последние 30 дней.\n",
        "                    \"rating_average_response_time\",        # время, в течение которого покупатели в среднем ждали вашего ответа за последние 30 дней.\n",
        "                    \"rating_replied_dialogs_ratio\"         # доля диалогов хотя бы с одним вашим ответом в течение 24 часов за последние 30 дней.\n",
        "    '''\n",
        "    # Создаем пустой датафрейм\n",
        "    df = pd.DataFrame()\n",
        "\n",
        "    # Пример POST-запроса к API OZON\n",
        "    response = requests.post(url, headers=headers, json=payload)\n",
        "\n",
        "    # Проверяем статус-код ответа\n",
        "    if response.status_code == 200:\n",
        "        print(\"rating_day\",\"Client_Id:\",id,date_from,date_to,\"Запрос успешно выполнен!\")\n",
        "\n",
        "        # Преобразуем ответ в формат JSON\n",
        "        data = response.json()\n",
        "\n",
        "        # Извлекаем нужные данные из ответа\n",
        "        result_data = data[\"ratings\"]\n",
        "        # Добавляем данные в датафрейм\n",
        "        for i in range(len(result_data[0]['values'])): # по датам\n",
        "          t_date=result_data[0]['values'][i]['date_from'][:10]\n",
        "          row={'id':t_date}\n",
        "          row.update({\"client_id\":    id})\n",
        "          for j in range(len(result_data)): # по количеству фич\n",
        "              row.update({result_data[j]['rating']:result_data[j]['values'][i]['value']})\n",
        "          df = pd.concat([df, pd.DataFrame([row])])\n",
        "\n",
        "        # Сбрасываем индексы датафрейма\n",
        "        df.reset_index(drop=True, inplace=True)\n",
        "\n",
        "    else:\n",
        "        print(\"Ошибка при выполнении запроса. Код статуса:\", response.status_code)\n",
        "        print(response.text)\n",
        "    return df"
      ],
      "metadata": {
        "id": "7eY1USF54Qop"
      },
      "execution_count": null,
      "outputs": []
    },
    {
      "cell_type": "code",
      "source": [
        "# на будующее выгрузка клиентов и ключей из файла и дополнение базы по запросу\n",
        "keys = pd.read_csv('/content/gdrive/MyDrive/marketplace/db/keys.csv')\n",
        "print(keys.shape)\n",
        "for i in range(keys.shape[0]):\n",
        "    id=keys.iloc[i,0]\n",
        "    key=keys.iloc[i,1]\n",
        "    print(id,key)"
      ],
      "metadata": {
        "colab": {
          "base_uri": "https://localhost:8080/"
        },
        "id": "gMNd_l9bw_Rn",
        "outputId": "3dae799b-75fe-4996-d819-e91a9e648c92"
      },
      "execution_count": null,
      "outputs": [
        {
          "output_type": "stream",
          "name": "stdout",
          "text": [
            "(2, 2)\n",
            "26652 6f40a57e-f3eb-4ae4-9943-76e203f3e26e\n",
            "142461 ae7efb74-8613-4936-8e9a-55e344b8c109\n"
          ]
        }
      ]
    },
    {
      "cell_type": "code",
      "source": [
        "id=['26652','142461'] #\n",
        "key=['6f40a57e-f3eb-4ae4-9943-76e203f3e26e','ae7efb74-8613-4936-8e9a-55e344b8c109'] #\n",
        "y=2023\n",
        "m=6\n",
        "y_e=2023\n",
        "m_e=6\n",
        "# Создаем пустой датафрейм\n",
        "day_table = pd.DataFrame()\n",
        "\n",
        "while(y<=y_e and (y==y_e and m<=m_e) or (y<y_e and m>m_e)):\n",
        "    d1=f'{y}-{m:02}-02'\n",
        "    m+=1\n",
        "    if m>12:\n",
        "        m=1\n",
        "        y+=1\n",
        "    d2=f'{y}-{m:02}-01'\n",
        "    for i in range(len(id)):\n",
        "        data_table=analytics_data_day(d1,d2,id[i],key[i])\n",
        "        rating_table=rating_day(d1,d2,id[i],key[i])\n",
        "        day_table1=pd.merge(data_table,rating_table,how='left',on=['id','client_id'])\n",
        "        day_table=pd.concat([day_table,day_table1], axis=0, sort=False)\n",
        "    print(d1,d2)"
      ],
      "metadata": {
        "colab": {
          "base_uri": "https://localhost:8080/"
        },
        "id": "bse91gH2wvhA",
        "outputId": "e15629ba-a44b-4d22-f1e6-91f942c8b274"
      },
      "execution_count": null,
      "outputs": [
        {
          "output_type": "stream",
          "name": "stdout",
          "text": [
            "analytics_data_day Client_Id: 26652 2023-06-02 2023-07-01 Запрос успешно выполнен!\n",
            "rating_day Client_Id: 26652 2023-06-02 2023-07-01 Запрос успешно выполнен!\n",
            "analytics_data_day Client_Id: 142461 2023-06-02 2023-07-01 Запрос успешно выполнен!\n",
            "rating_day Client_Id: 142461 2023-06-02 2023-07-01 Запрос успешно выполнен!\n",
            "2023-06-02 2023-07-01\n"
          ]
        }
      ]
    },
    {
      "cell_type": "code",
      "source": [
        "display(day_table)"
      ],
      "metadata": {
        "id": "VJ7Ve2c4Fiay"
      },
      "execution_count": null,
      "outputs": []
    },
    {
      "cell_type": "code",
      "execution_count": null,
      "metadata": {
        "id": "1bkNthJzpr5N"
      },
      "outputs": [],
      "source": [
        "day_table.to_csv('/content/gdrive/MyDrive/marketplace/db/days.csv', index=False)\n"
      ]
    },
    {
      "cell_type": "code",
      "source": [
        "import os\n",
        "directory = \"/content/gdrive/MyDrive/marketplace/db/\"\n",
        "# Создаем пустой датафрейм\n",
        "day_table = pd.DataFrame()\n",
        "for root, dirs, files in os.walk(directory):\n",
        "    for file in files:\n",
        "        if file[:4]=='days':\n",
        "            print(\"*\" * 60)\n",
        "            path = os.path.join(root, file)\n",
        "            print(path)\n",
        "            table = pd.read_csv(path)\n",
        "            day_table=pd.concat([day_table,table], axis=0, sort=False)"
      ],
      "metadata": {
        "colab": {
          "base_uri": "https://localhost:8080/"
        },
        "id": "bCOzcSVyQQwY",
        "outputId": "4c5c9766-d531-4eb5-8f53-a66aaaa2ace1"
      },
      "execution_count": null,
      "outputs": [
        {
          "output_type": "stream",
          "name": "stdout",
          "text": [
            "************************************************************\n",
            "/content/gdrive/MyDrive/marketplace/db/days1.csv\n",
            "************************************************************\n",
            "/content/gdrive/MyDrive/marketplace/db/days2.csv\n",
            "************************************************************\n",
            "/content/gdrive/MyDrive/marketplace/db/days3.csv\n",
            "************************************************************\n",
            "/content/gdrive/MyDrive/marketplace/db/days4.csv\n",
            "************************************************************\n",
            "/content/gdrive/MyDrive/marketplace/db/days5.csv\n",
            "************************************************************\n",
            "/content/gdrive/MyDrive/marketplace/db/days6.csv\n",
            "************************************************************\n",
            "/content/gdrive/MyDrive/marketplace/db/days7.csv\n",
            "************************************************************\n",
            "/content/gdrive/MyDrive/marketplace/db/days8.csv\n",
            "************************************************************\n",
            "/content/gdrive/MyDrive/marketplace/db/days9.csv\n"
          ]
        }
      ]
    }
  ],
  "metadata": {
    "colab": {
      "provenance": []
    },
    "kernelspec": {
      "display_name": "Python 3",
      "name": "python3"
    },
    "language_info": {
      "name": "python"
    }
  },
  "nbformat": 4,
  "nbformat_minor": 0
}