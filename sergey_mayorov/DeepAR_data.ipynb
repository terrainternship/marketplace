{
  "nbformat": 4,
  "nbformat_minor": 0,
  "metadata": {
    "colab": {
      "provenance": []
    },
    "kernelspec": {
      "name": "python3",
      "display_name": "Python 3"
    },
    "language_info": {
      "name": "python"
    }
  },
  "cells": [
    {
      "cell_type": "markdown",
      "source": [
        "Original https://ts.gluon.ai/stable/tutorials/forecasting/quick_start_tutorial.html"
      ],
      "metadata": {
        "id": "az1DbddAYNGl"
      }
    },
    {
      "cell_type": "code",
      "source": [
        "!pip install --upgrade mxnet\n",
        "!pip install gluonts\n",
        "!pip install orjson"
      ],
      "metadata": {
        "id": "aC-_Q7p8kKID",
        "colab": {
          "base_uri": "https://localhost:8080/"
        },
        "outputId": "263bac41-c4b5-4d9f-be04-b7e4b744c320"
      },
      "execution_count": 1,
      "outputs": [
        {
          "output_type": "stream",
          "name": "stdout",
          "text": [
            "Looking in indexes: https://pypi.org/simple, https://us-python.pkg.dev/colab-wheels/public/simple/\n",
            "Collecting mxnet\n",
            "  Downloading mxnet-1.9.1-py3-none-manylinux2014_x86_64.whl (49.1 MB)\n",
            "\u001b[2K     \u001b[90m━━━━━━━━━━━━━━━━━━━━━━━━━━━━━━━━━━━━━━━━\u001b[0m \u001b[32m49.1/49.1 MB\u001b[0m \u001b[31m16.6 MB/s\u001b[0m eta \u001b[36m0:00:00\u001b[0m\n",
            "\u001b[?25hRequirement already satisfied: numpy<2.0.0,>1.16.0 in /usr/local/lib/python3.10/dist-packages (from mxnet) (1.22.4)\n",
            "Requirement already satisfied: requests<3,>=2.20.0 in /usr/local/lib/python3.10/dist-packages (from mxnet) (2.27.1)\n",
            "Collecting graphviz<0.9.0,>=0.8.1 (from mxnet)\n",
            "  Downloading graphviz-0.8.4-py2.py3-none-any.whl (16 kB)\n",
            "Requirement already satisfied: urllib3<1.27,>=1.21.1 in /usr/local/lib/python3.10/dist-packages (from requests<3,>=2.20.0->mxnet) (1.26.15)\n",
            "Requirement already satisfied: certifi>=2017.4.17 in /usr/local/lib/python3.10/dist-packages (from requests<3,>=2.20.0->mxnet) (2022.12.7)\n",
            "Requirement already satisfied: charset-normalizer~=2.0.0 in /usr/local/lib/python3.10/dist-packages (from requests<3,>=2.20.0->mxnet) (2.0.12)\n",
            "Requirement already satisfied: idna<4,>=2.5 in /usr/local/lib/python3.10/dist-packages (from requests<3,>=2.20.0->mxnet) (3.4)\n",
            "Installing collected packages: graphviz, mxnet\n",
            "  Attempting uninstall: graphviz\n",
            "    Found existing installation: graphviz 0.20.1\n",
            "    Uninstalling graphviz-0.20.1:\n",
            "      Successfully uninstalled graphviz-0.20.1\n",
            "Successfully installed graphviz-0.8.4 mxnet-1.9.1\n",
            "Looking in indexes: https://pypi.org/simple, https://us-python.pkg.dev/colab-wheels/public/simple/\n",
            "Collecting gluonts\n",
            "  Downloading gluonts-0.13.2-py3-none-any.whl (1.5 MB)\n",
            "\u001b[2K     \u001b[90m━━━━━━━━━━━━━━━━━━━━━━━━━━━━━━━━━━━━━━━━\u001b[0m \u001b[32m1.5/1.5 MB\u001b[0m \u001b[31m17.8 MB/s\u001b[0m eta \u001b[36m0:00:00\u001b[0m\n",
            "\u001b[?25hRequirement already satisfied: numpy~=1.16 in /usr/local/lib/python3.10/dist-packages (from gluonts) (1.22.4)\n",
            "Requirement already satisfied: pandas<3,>=1.0 in /usr/local/lib/python3.10/dist-packages (from gluonts) (1.5.3)\n",
            "Requirement already satisfied: pydantic~=1.7 in /usr/local/lib/python3.10/dist-packages (from gluonts) (1.10.7)\n",
            "Requirement already satisfied: tqdm~=4.23 in /usr/local/lib/python3.10/dist-packages (from gluonts) (4.65.0)\n",
            "Requirement already satisfied: toolz~=0.10 in /usr/local/lib/python3.10/dist-packages (from gluonts) (0.12.0)\n",
            "Requirement already satisfied: typing-extensions~=4.0 in /usr/local/lib/python3.10/dist-packages (from gluonts) (4.5.0)\n",
            "Requirement already satisfied: python-dateutil>=2.8.1 in /usr/local/lib/python3.10/dist-packages (from pandas<3,>=1.0->gluonts) (2.8.2)\n",
            "Requirement already satisfied: pytz>=2020.1 in /usr/local/lib/python3.10/dist-packages (from pandas<3,>=1.0->gluonts) (2022.7.1)\n",
            "Requirement already satisfied: six>=1.5 in /usr/local/lib/python3.10/dist-packages (from python-dateutil>=2.8.1->pandas<3,>=1.0->gluonts) (1.16.0)\n",
            "Installing collected packages: gluonts\n",
            "Successfully installed gluonts-0.13.2\n",
            "Looking in indexes: https://pypi.org/simple, https://us-python.pkg.dev/colab-wheels/public/simple/\n",
            "Collecting orjson\n",
            "  Downloading orjson-3.9.1-cp310-cp310-manylinux_2_17_x86_64.manylinux2014_x86_64.whl (136 kB)\n",
            "\u001b[2K     \u001b[90m━━━━━━━━━━━━━━━━━━━━━━━━━━━━━━━━━━━━━━━\u001b[0m \u001b[32m137.0/137.0 kB\u001b[0m \u001b[31m4.4 MB/s\u001b[0m eta \u001b[36m0:00:00\u001b[0m\n",
            "\u001b[?25hInstalling collected packages: orjson\n",
            "Successfully installed orjson-3.9.1\n"
          ]
        }
      ]
    },
    {
      "cell_type": "code",
      "source": [
        "import gluonts, orjson\n",
        "#from gluonts.torch.model.deepar import DeepAREstimator\n",
        "from gluonts.mx.model.deepar import DeepAREstimator\n",
        "from gluonts.mx.trainer import Trainer\n",
        "import numpy as np\n",
        "import pandas as pd\n",
        "from gluonts.dataset.common import ListDataset\n",
        "from gluonts.dataset.pandas import PandasDataset\n",
        "from gluonts.dataset.split import split"
      ],
      "metadata": {
        "id": "eGibz5jCABLt"
      },
      "execution_count": 2,
      "outputs": []
    },
    {
      "cell_type": "markdown",
      "source": [
        "Целевые данные без признаков"
      ],
      "metadata": {
        "id": "myTJQunFIpbc"
      }
    },
    {
      "cell_type": "code",
      "source": [
        "# Загружаем данные\n",
        "df = pd.read_csv('/content/drive/MyDrive/trainee/Ingate/Ozon/data_ozon.csv',\n",
        "                 parse_dates=['День'])\n",
        "dic_ren = {'День': 'timestamp', 'Ozon ID': 'item_id', 'Заказано товаров': 'target'}\n",
        "df = df.rename(columns=dic_ren)\n",
        "freq = 'D'\n",
        "pred_len = 24\n",
        "df = df[['timestamp', 'target', 'item_id']]\n",
        "df_tmp = df.groupby('item_id').sum()\n",
        "ls_work = df_tmp[df_tmp > 100].index.tolist()\n",
        "df_tmp = df[df.item_id.isin(ls_work)]\n",
        "df = df_tmp[df_tmp.target > 0]\n",
        "df = df.pivot(index='item_id', columns='timestamp', values='target')\n",
        "df.fillna(0, inplace=True)\n",
        "df.reset_index(inplace=True)\n",
        "df = df.melt(('item_id'), var_name='timestamp', value_name='target')\n",
        "# Сортируем по датам и SKU\n",
        "df.sort_values(['timestamp', 'item_id'])\n",
        "# Индексируем по дате\n",
        "df.set_index('timestamp')\n",
        "ds = PandasDataset.from_long_dataframe(df, target='target', item_id='item_id')\n",
        "train_ds, val_ds = split(ds, offset=pred_len * -2)\n",
        "trainer = Trainer(epochs=20, learning_rate=1e-3)\n",
        "estimator = DeepAREstimator(prediction_length=pred_len, freq=freq, trainer=trainer)\n",
        "model = estimator.train(train_ds)"
      ],
      "metadata": {
        "colab": {
          "base_uri": "https://localhost:8080/"
        },
        "id": "aMAtGFWrZX5_",
        "outputId": "199f3a19-8780-4ab4-8deb-3830b073bc8a"
      },
      "execution_count": 7,
      "outputs": [
        {
          "output_type": "stream",
          "name": "stderr",
          "text": [
            "<ipython-input-7-9471553fa7bb>:2: DtypeWarning: Columns (4) have mixed types. Specify dtype option on import or set low_memory=False.\n",
            "  df = pd.read_csv('/content/drive/MyDrive/trainee/Ingate/Ozon/data_ozon.csv',\n",
            "<ipython-input-7-9471553fa7bb>:9: FutureWarning: The default value of numeric_only in DataFrameGroupBy.sum is deprecated. In a future version, numeric_only will default to False. Either specify numeric_only or select only columns which should be valid for the function.\n",
            "  df_tmp = df.groupby('item_id').sum()\n",
            "100%|██████████| 50/50 [00:06<00:00,  8.08it/s, epoch=1/20, avg_epoch_loss=-4.13]\n",
            "100%|██████████| 50/50 [00:06<00:00,  8.13it/s, epoch=2/20, avg_epoch_loss=-5.08]\n",
            "100%|██████████| 50/50 [00:07<00:00,  7.07it/s, epoch=3/20, avg_epoch_loss=-4.84]\n",
            "100%|██████████| 50/50 [00:05<00:00,  8.79it/s, epoch=4/20, avg_epoch_loss=-5.43]\n",
            "100%|██████████| 50/50 [00:08<00:00,  5.95it/s, epoch=5/20, avg_epoch_loss=-5.09]\n",
            "100%|██████████| 50/50 [00:05<00:00,  8.85it/s, epoch=6/20, avg_epoch_loss=-4.76]\n",
            "100%|██████████| 50/50 [00:07<00:00,  6.63it/s, epoch=7/20, avg_epoch_loss=-5.3]\n",
            "100%|██████████| 50/50 [00:06<00:00,  7.93it/s, epoch=8/20, avg_epoch_loss=-5.69]\n",
            "100%|██████████| 50/50 [00:06<00:00,  7.21it/s, epoch=9/20, avg_epoch_loss=-5.8]\n",
            "100%|██████████| 50/50 [00:06<00:00,  7.23it/s, epoch=10/20, avg_epoch_loss=-6.5]\n",
            "100%|██████████| 50/50 [00:05<00:00,  8.94it/s, epoch=11/20, avg_epoch_loss=-4.4]\n",
            "100%|██████████| 50/50 [00:07<00:00,  6.63it/s, epoch=12/20, avg_epoch_loss=-6.08]\n",
            "100%|██████████| 50/50 [00:05<00:00,  9.09it/s, epoch=13/20, avg_epoch_loss=-6.09]\n",
            "100%|██████████| 50/50 [00:06<00:00,  7.56it/s, epoch=14/20, avg_epoch_loss=-5.89]\n",
            "100%|██████████| 50/50 [00:06<00:00,  7.62it/s, epoch=15/20, avg_epoch_loss=-5.68]\n",
            "100%|██████████| 50/50 [00:05<00:00,  8.78it/s, epoch=16/20, avg_epoch_loss=-5.61]\n",
            "100%|██████████| 50/50 [00:07<00:00,  6.64it/s, epoch=17/20, avg_epoch_loss=-6.26]\n",
            "100%|██████████| 50/50 [00:05<00:00,  8.90it/s, epoch=18/20, avg_epoch_loss=-5.74]\n",
            "100%|██████████| 50/50 [00:07<00:00,  7.09it/s, epoch=19/20, avg_epoch_loss=-6.14]\n",
            "100%|██████████| 50/50 [00:06<00:00,  8.27it/s, epoch=20/20, avg_epoch_loss=-6.23]\n"
          ]
        }
      ]
    }
  ]
}