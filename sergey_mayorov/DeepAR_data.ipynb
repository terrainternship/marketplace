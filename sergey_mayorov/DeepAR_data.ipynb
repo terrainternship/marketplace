{
  "nbformat": 4,
  "nbformat_minor": 0,
  "metadata": {
    "colab": {
      "provenance": []
    },
    "kernelspec": {
      "name": "python3",
      "display_name": "Python 3"
    },
    "language_info": {
      "name": "python"
    }
  },
  "cells": [
    {
      "cell_type": "markdown",
      "source": [
        "Original https://ts.gluon.ai/stable/tutorials/forecasting/quick_start_tutorial.html"
      ],
      "metadata": {
        "id": "az1DbddAYNGl"
      }
    },
    {
      "cell_type": "code",
      "source": [
        "!pip install --upgrade mxnet\n",
        "!pip install gluonts\n",
        "!pip install orjson"
      ],
      "metadata": {
        "id": "aC-_Q7p8kKID",
        "colab": {
          "base_uri": "https://localhost:8080/"
        },
        "outputId": "a23d8e77-8868-4d3a-8cae-fc622b0a9e8e"
      },
      "execution_count": 1,
      "outputs": [
        {
          "output_type": "stream",
          "name": "stdout",
          "text": [
            "Looking in indexes: https://pypi.org/simple, https://us-python.pkg.dev/colab-wheels/public/simple/\n",
            "Collecting mxnet\n",
            "  Downloading mxnet-1.9.1-py3-none-manylinux2014_x86_64.whl (49.1 MB)\n",
            "\u001b[2K     \u001b[90m━━━━━━━━━━━━━━━━━━━━━━━━━━━━━━━━━━━━━━━━\u001b[0m \u001b[32m49.1/49.1 MB\u001b[0m \u001b[31m20.4 MB/s\u001b[0m eta \u001b[36m0:00:00\u001b[0m\n",
            "\u001b[?25hRequirement already satisfied: numpy<2.0.0,>1.16.0 in /usr/local/lib/python3.10/dist-packages (from mxnet) (1.22.4)\n",
            "Requirement already satisfied: requests<3,>=2.20.0 in /usr/local/lib/python3.10/dist-packages (from mxnet) (2.27.1)\n",
            "Collecting graphviz<0.9.0,>=0.8.1 (from mxnet)\n",
            "  Downloading graphviz-0.8.4-py2.py3-none-any.whl (16 kB)\n",
            "Requirement already satisfied: urllib3<1.27,>=1.21.1 in /usr/local/lib/python3.10/dist-packages (from requests<3,>=2.20.0->mxnet) (1.26.15)\n",
            "Requirement already satisfied: certifi>=2017.4.17 in /usr/local/lib/python3.10/dist-packages (from requests<3,>=2.20.0->mxnet) (2022.12.7)\n",
            "Requirement already satisfied: charset-normalizer~=2.0.0 in /usr/local/lib/python3.10/dist-packages (from requests<3,>=2.20.0->mxnet) (2.0.12)\n",
            "Requirement already satisfied: idna<4,>=2.5 in /usr/local/lib/python3.10/dist-packages (from requests<3,>=2.20.0->mxnet) (3.4)\n",
            "Installing collected packages: graphviz, mxnet\n",
            "  Attempting uninstall: graphviz\n",
            "    Found existing installation: graphviz 0.20.1\n",
            "    Uninstalling graphviz-0.20.1:\n",
            "      Successfully uninstalled graphviz-0.20.1\n",
            "Successfully installed graphviz-0.8.4 mxnet-1.9.1\n",
            "Looking in indexes: https://pypi.org/simple, https://us-python.pkg.dev/colab-wheels/public/simple/\n",
            "Collecting gluonts\n",
            "  Downloading gluonts-0.13.2-py3-none-any.whl (1.5 MB)\n",
            "\u001b[2K     \u001b[90m━━━━━━━━━━━━━━━━━━━━━━━━━━━━━━━━━━━━━━━━\u001b[0m \u001b[32m1.5/1.5 MB\u001b[0m \u001b[31m56.2 MB/s\u001b[0m eta \u001b[36m0:00:00\u001b[0m\n",
            "\u001b[?25hRequirement already satisfied: numpy~=1.16 in /usr/local/lib/python3.10/dist-packages (from gluonts) (1.22.4)\n",
            "Requirement already satisfied: pandas<3,>=1.0 in /usr/local/lib/python3.10/dist-packages (from gluonts) (1.5.3)\n",
            "Requirement already satisfied: pydantic~=1.7 in /usr/local/lib/python3.10/dist-packages (from gluonts) (1.10.7)\n",
            "Requirement already satisfied: tqdm~=4.23 in /usr/local/lib/python3.10/dist-packages (from gluonts) (4.65.0)\n",
            "Requirement already satisfied: toolz~=0.10 in /usr/local/lib/python3.10/dist-packages (from gluonts) (0.12.0)\n",
            "Requirement already satisfied: typing-extensions~=4.0 in /usr/local/lib/python3.10/dist-packages (from gluonts) (4.5.0)\n",
            "Requirement already satisfied: python-dateutil>=2.8.1 in /usr/local/lib/python3.10/dist-packages (from pandas<3,>=1.0->gluonts) (2.8.2)\n",
            "Requirement already satisfied: pytz>=2020.1 in /usr/local/lib/python3.10/dist-packages (from pandas<3,>=1.0->gluonts) (2022.7.1)\n",
            "Requirement already satisfied: six>=1.5 in /usr/local/lib/python3.10/dist-packages (from python-dateutil>=2.8.1->pandas<3,>=1.0->gluonts) (1.16.0)\n",
            "Installing collected packages: gluonts\n",
            "Successfully installed gluonts-0.13.2\n",
            "Looking in indexes: https://pypi.org/simple, https://us-python.pkg.dev/colab-wheels/public/simple/\n",
            "Collecting orjson\n",
            "  Downloading orjson-3.9.1-cp310-cp310-manylinux_2_17_x86_64.manylinux2014_x86_64.whl (136 kB)\n",
            "\u001b[2K     \u001b[90m━━━━━━━━━━━━━━━━━━━━━━━━━━━━━━━━━━━━━━━\u001b[0m \u001b[32m137.0/137.0 kB\u001b[0m \u001b[31m9.2 MB/s\u001b[0m eta \u001b[36m0:00:00\u001b[0m\n",
            "\u001b[?25hInstalling collected packages: orjson\n",
            "Successfully installed orjson-3.9.1\n"
          ]
        }
      ]
    },
    {
      "cell_type": "code",
      "source": [
        "import gluonts, orjson\n",
        "#from gluonts.torch.model.deepar import DeepAREstimator\n",
        "from gluonts.mx import DeepAREstimator, Trainer\n",
        "import numpy as np\n",
        "import pandas as pd\n",
        "from gluonts.dataset.common import ListDataset\n",
        "#from gluonts.dataset.pandas import PandasDataset\n",
        "#from gluonts.dataset.split import split"
      ],
      "metadata": {
        "id": "eGibz5jCABLt"
      },
      "execution_count": 2,
      "outputs": []
    },
    {
      "cell_type": "markdown",
      "source": [
        "Целевые данные без признаков"
      ],
      "metadata": {
        "id": "myTJQunFIpbc"
      }
    },
    {
      "cell_type": "code",
      "source": [
        "def new_ds(df: pd.DataFrame) -> list:\n",
        "  '''Конвертирует pandas dataframe в датасет.\n",
        "  Входной параметр: df - датафрейм следующего формата: индекс - дата,\n",
        "    item_id - обязательная колонка, содержащая идентификатор серии,\n",
        "    target  - обязательная колонка, содержащая целевое значение.\n",
        "  Возвращает датасет в виде списка.'''\n",
        "  ls_res = [{'target': df.loc[df.item_id == item, 'target'].tolist(),\n",
        "             'start': df.index[0]} for item in df.item_id.unique()]\n",
        "  return ListDataset(ls_res, freq=freq)"
      ],
      "metadata": {
        "id": "T1MxLbj6BFac"
      },
      "execution_count": 6,
      "outputs": []
    },
    {
      "cell_type": "code",
      "source": [
        "# Загружаем данные\n",
        "df = pd.read_csv('/content/drive/MyDrive/trainee/Ingate/Ozon/data_ozon.csv',\n",
        "                 parse_dates=['День'])\n",
        "# Переименовываем длинные названия с пробелами и кириллическими буквами\n",
        "dic_ren = {'День': 'timestamp', 'Ozon ID': 'item_id',\n",
        "           'Заказано товаров': 'target'}\n",
        "           #'Уникальные посетители, всего': 'dyn_real_1',\n",
        "           #'Показы, всего': 'dyn_real_2',\n",
        "           #'Показы в поиске и каталоге': 'dyn_real_3'}\n",
        "df = df.rename(columns=dic_ren)\n",
        "freq = 'D'\n",
        "# Отбираем только нужные столбцы\n",
        "df = df[['timestamp', 'item_id', 'target']]\n",
        "          #'dyn_real_1', 'dyn_real_2', 'dyn_real_3']]\n",
        "# Отбираем товары с большим количеством заказов\n",
        "df_tmp = df.groupby('item_id').target.sum()\n",
        "ls_work = df_tmp[df_tmp > 100].index.tolist()\n",
        "df_tmp = df[df.item_id.isin(ls_work)]\n",
        "# Отбираем записи с ненулевыми заказами\n",
        "df = df_tmp[df_tmp.target > 0]\n",
        "# Выравниваем все товары по датам, пустоту заполняем нулями\n",
        "df = df.pivot(index='item_id', columns='timestamp', values='target')\n",
        "df.fillna(0, inplace=True)\n",
        "df.reset_index(inplace=True)\n",
        "df = df.melt(('item_id'), var_name='timestamp', value_name='target')\n",
        "# Сортируем по датам и SKU\n",
        "df.sort_values(['timestamp', 'item_id'], inplace=True)\n",
        "# Индексируем по дате\n",
        "df.set_index('timestamp', inplace=True)\n",
        "# Делим на обучающую и проверочные выборки\n",
        "df_train = df.loc[:'2023-05-01']\n",
        "df_val = df.loc['2023-05-01':]\n",
        "# Горизонт прогноза будет равен длине проверочной выборки\n",
        "pred_len = df_val.index.nunique()\n",
        "ds_train = new_ds(df_train)\n",
        "# Обучение\n",
        "trainer = Trainer(epochs=20, learning_rate=1e-3)\n",
        "estimator = DeepAREstimator(prediction_length=pred_len, freq=freq,\n",
        "                            trainer=trainer)\n",
        "model = estimator.train(ds_train)"
      ],
      "metadata": {
        "colab": {
          "base_uri": "https://localhost:8080/"
        },
        "id": "aMAtGFWrZX5_",
        "outputId": "7304d734-8328-442a-a856-7a02d2c69936"
      },
      "execution_count": 7,
      "outputs": [
        {
          "output_type": "stream",
          "name": "stderr",
          "text": [
            "<ipython-input-7-e9a9980f2072>:2: DtypeWarning: Columns (4) have mixed types. Specify dtype option on import or set low_memory=False.\n",
            "  df = pd.read_csv('/content/drive/MyDrive/trainee/Ingate/Ozon/data_ozon.csv',\n",
            "100%|██████████| 50/50 [00:06<00:00,  7.98it/s, epoch=1/20, avg_epoch_loss=0.182]\n",
            "100%|██████████| 50/50 [00:05<00:00,  8.93it/s, epoch=2/20, avg_epoch_loss=-.141]\n",
            "100%|██████████| 50/50 [00:07<00:00,  6.77it/s, epoch=3/20, avg_epoch_loss=-.17]\n",
            "100%|██████████| 50/50 [00:05<00:00,  9.24it/s, epoch=4/20, avg_epoch_loss=-.337]\n",
            "100%|██████████| 50/50 [00:07<00:00,  6.85it/s, epoch=5/20, avg_epoch_loss=-.406]\n",
            "100%|██████████| 50/50 [00:05<00:00,  8.56it/s, epoch=6/20, avg_epoch_loss=-.545]\n",
            "100%|██████████| 50/50 [00:06<00:00,  8.09it/s, epoch=7/20, avg_epoch_loss=-.603]\n",
            "100%|██████████| 50/50 [00:07<00:00,  6.35it/s, epoch=8/20, avg_epoch_loss=-.647]\n",
            "100%|██████████| 50/50 [00:05<00:00,  9.17it/s, epoch=9/20, avg_epoch_loss=-.624]\n",
            "100%|██████████| 50/50 [00:07<00:00,  6.52it/s, epoch=10/20, avg_epoch_loss=-.733]\n",
            "100%|██████████| 50/50 [00:05<00:00,  9.04it/s, epoch=11/20, avg_epoch_loss=-.613]\n",
            "100%|██████████| 50/50 [00:06<00:00,  7.87it/s, epoch=12/20, avg_epoch_loss=-.722]\n",
            "100%|██████████| 50/50 [00:06<00:00,  7.34it/s, epoch=13/20, avg_epoch_loss=-.656]\n",
            "100%|██████████| 50/50 [00:05<00:00,  9.03it/s, epoch=14/20, avg_epoch_loss=-.915]\n",
            "100%|██████████| 50/50 [00:07<00:00,  6.54it/s, epoch=15/20, avg_epoch_loss=-.966]\n",
            "100%|██████████| 50/50 [00:05<00:00,  9.19it/s, epoch=16/20, avg_epoch_loss=-.866]\n",
            "100%|██████████| 50/50 [00:06<00:00,  7.68it/s, epoch=17/20, avg_epoch_loss=-.957]\n",
            "100%|██████████| 50/50 [00:06<00:00,  7.49it/s, epoch=18/20, avg_epoch_loss=-.934]\n",
            "100%|██████████| 50/50 [00:05<00:00,  9.11it/s, epoch=19/20, avg_epoch_loss=-.961]\n",
            "100%|██████████| 50/50 [00:07<00:00,  6.54it/s, epoch=20/20, avg_epoch_loss=-.761]\n"
          ]
        }
      ]
    },
    {
      "cell_type": "code",
      "source": [
        "# Прогноз на проверочной выборке\n",
        "ds_val = new_ds(df_val)\n",
        "preds = list(model.predict(ds_val))\n",
        "y_pred = np.array([it.median for it in preds])\n",
        "y_true = np.array([df_val.loc[df_val.item_id == item,\n",
        "                'target'].to_numpy(float) for item in df_val.item_id.unique()])\n",
        "res = np.abs(y_pred - y_true).mean(axis=1)"
      ],
      "metadata": {
        "id": "3s43487WfcId"
      },
      "execution_count": 35,
      "outputs": []
    },
    {
      "cell_type": "code",
      "source": [
        "# Средняя абсолютная ошибка (по каждому продукту отдельно)\n",
        "res.max(), res.min(), res.mean()"
      ],
      "metadata": {
        "colab": {
          "base_uri": "https://localhost:8080/"
        },
        "id": "NkibOOHWL9gA",
        "outputId": "0664da40-0871-45ca-8f74-801757e5834c"
      },
      "execution_count": 38,
      "outputs": [
        {
          "output_type": "execute_result",
          "data": {
            "text/plain": [
              "(3.093410007854739, 0.16710598694504977, 0.9322785648031641)"
            ]
          },
          "metadata": {},
          "execution_count": 38
        }
      ]
    }
  ]
}