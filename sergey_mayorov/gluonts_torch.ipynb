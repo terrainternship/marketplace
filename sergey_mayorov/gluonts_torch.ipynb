{
  "nbformat": 4,
  "nbformat_minor": 0,
  "metadata": {
    "colab": {
      "provenance": []
    },
    "kernelspec": {
      "name": "python3",
      "display_name": "Python 3"
    },
    "language_info": {
      "name": "python"
    },
    "widgets": {
      "application/vnd.jupyter.widget-state+json": {
        "4cce6218ddae48b59bf389b15aa63647": {
          "model_module": "@jupyter-widgets/controls",
          "model_name": "HBoxModel",
          "model_module_version": "1.5.0",
          "state": {
            "_dom_classes": [],
            "_model_module": "@jupyter-widgets/controls",
            "_model_module_version": "1.5.0",
            "_model_name": "HBoxModel",
            "_view_count": null,
            "_view_module": "@jupyter-widgets/controls",
            "_view_module_version": "1.5.0",
            "_view_name": "HBoxView",
            "box_style": "",
            "children": [
              "IPY_MODEL_10d67faa85bf462f866fa2c0e65bb736",
              "IPY_MODEL_cf47073fcf5340a1b8d644ab2c77be9d",
              "IPY_MODEL_2f300f50446b43b593fc2bb8144c6547"
            ],
            "layout": "IPY_MODEL_dfa21cfab86749b585cf0891d8df5447"
          }
        },
        "10d67faa85bf462f866fa2c0e65bb736": {
          "model_module": "@jupyter-widgets/controls",
          "model_name": "HTMLModel",
          "model_module_version": "1.5.0",
          "state": {
            "_dom_classes": [],
            "_model_module": "@jupyter-widgets/controls",
            "_model_module_version": "1.5.0",
            "_model_name": "HTMLModel",
            "_view_count": null,
            "_view_module": "@jupyter-widgets/controls",
            "_view_module_version": "1.5.0",
            "_view_name": "HTMLView",
            "description": "",
            "description_tooltip": null,
            "layout": "IPY_MODEL_dc7912718b434fb1958ef9ee8c761457",
            "placeholder": "​",
            "style": "IPY_MODEL_8fe20095241b45178213aca997c1a219",
            "value": "Epoch 19: "
          }
        },
        "cf47073fcf5340a1b8d644ab2c77be9d": {
          "model_module": "@jupyter-widgets/controls",
          "model_name": "FloatProgressModel",
          "model_module_version": "1.5.0",
          "state": {
            "_dom_classes": [],
            "_model_module": "@jupyter-widgets/controls",
            "_model_module_version": "1.5.0",
            "_model_name": "FloatProgressModel",
            "_view_count": null,
            "_view_module": "@jupyter-widgets/controls",
            "_view_module_version": "1.5.0",
            "_view_name": "ProgressView",
            "bar_style": "success",
            "description": "",
            "description_tooltip": null,
            "layout": "IPY_MODEL_b047a29e3697464a8b90241e6363eed7",
            "max": 1,
            "min": 0,
            "orientation": "horizontal",
            "style": "IPY_MODEL_fecdcb752275406695e808f67e0aa510",
            "value": 1
          }
        },
        "2f300f50446b43b593fc2bb8144c6547": {
          "model_module": "@jupyter-widgets/controls",
          "model_name": "HTMLModel",
          "model_module_version": "1.5.0",
          "state": {
            "_dom_classes": [],
            "_model_module": "@jupyter-widgets/controls",
            "_model_module_version": "1.5.0",
            "_model_name": "HTMLModel",
            "_view_count": null,
            "_view_module": "@jupyter-widgets/controls",
            "_view_module_version": "1.5.0",
            "_view_name": "HTMLView",
            "description": "",
            "description_tooltip": null,
            "layout": "IPY_MODEL_899937779ca443bf832536fb13643aff",
            "placeholder": "​",
            "style": "IPY_MODEL_dbedc7c98df54d2ca5cf46194d4cf864",
            "value": " 50/? [00:05&lt;00:00,  8.44it/s, v_num=0, train_loss=2.31e+4]"
          }
        },
        "dfa21cfab86749b585cf0891d8df5447": {
          "model_module": "@jupyter-widgets/base",
          "model_name": "LayoutModel",
          "model_module_version": "1.2.0",
          "state": {
            "_model_module": "@jupyter-widgets/base",
            "_model_module_version": "1.2.0",
            "_model_name": "LayoutModel",
            "_view_count": null,
            "_view_module": "@jupyter-widgets/base",
            "_view_module_version": "1.2.0",
            "_view_name": "LayoutView",
            "align_content": null,
            "align_items": null,
            "align_self": null,
            "border": null,
            "bottom": null,
            "display": "inline-flex",
            "flex": null,
            "flex_flow": "row wrap",
            "grid_area": null,
            "grid_auto_columns": null,
            "grid_auto_flow": null,
            "grid_auto_rows": null,
            "grid_column": null,
            "grid_gap": null,
            "grid_row": null,
            "grid_template_areas": null,
            "grid_template_columns": null,
            "grid_template_rows": null,
            "height": null,
            "justify_content": null,
            "justify_items": null,
            "left": null,
            "margin": null,
            "max_height": null,
            "max_width": null,
            "min_height": null,
            "min_width": null,
            "object_fit": null,
            "object_position": null,
            "order": null,
            "overflow": null,
            "overflow_x": null,
            "overflow_y": null,
            "padding": null,
            "right": null,
            "top": null,
            "visibility": null,
            "width": "100%"
          }
        },
        "dc7912718b434fb1958ef9ee8c761457": {
          "model_module": "@jupyter-widgets/base",
          "model_name": "LayoutModel",
          "model_module_version": "1.2.0",
          "state": {
            "_model_module": "@jupyter-widgets/base",
            "_model_module_version": "1.2.0",
            "_model_name": "LayoutModel",
            "_view_count": null,
            "_view_module": "@jupyter-widgets/base",
            "_view_module_version": "1.2.0",
            "_view_name": "LayoutView",
            "align_content": null,
            "align_items": null,
            "align_self": null,
            "border": null,
            "bottom": null,
            "display": null,
            "flex": null,
            "flex_flow": null,
            "grid_area": null,
            "grid_auto_columns": null,
            "grid_auto_flow": null,
            "grid_auto_rows": null,
            "grid_column": null,
            "grid_gap": null,
            "grid_row": null,
            "grid_template_areas": null,
            "grid_template_columns": null,
            "grid_template_rows": null,
            "height": null,
            "justify_content": null,
            "justify_items": null,
            "left": null,
            "margin": null,
            "max_height": null,
            "max_width": null,
            "min_height": null,
            "min_width": null,
            "object_fit": null,
            "object_position": null,
            "order": null,
            "overflow": null,
            "overflow_x": null,
            "overflow_y": null,
            "padding": null,
            "right": null,
            "top": null,
            "visibility": null,
            "width": null
          }
        },
        "8fe20095241b45178213aca997c1a219": {
          "model_module": "@jupyter-widgets/controls",
          "model_name": "DescriptionStyleModel",
          "model_module_version": "1.5.0",
          "state": {
            "_model_module": "@jupyter-widgets/controls",
            "_model_module_version": "1.5.0",
            "_model_name": "DescriptionStyleModel",
            "_view_count": null,
            "_view_module": "@jupyter-widgets/base",
            "_view_module_version": "1.2.0",
            "_view_name": "StyleView",
            "description_width": ""
          }
        },
        "b047a29e3697464a8b90241e6363eed7": {
          "model_module": "@jupyter-widgets/base",
          "model_name": "LayoutModel",
          "model_module_version": "1.2.0",
          "state": {
            "_model_module": "@jupyter-widgets/base",
            "_model_module_version": "1.2.0",
            "_model_name": "LayoutModel",
            "_view_count": null,
            "_view_module": "@jupyter-widgets/base",
            "_view_module_version": "1.2.0",
            "_view_name": "LayoutView",
            "align_content": null,
            "align_items": null,
            "align_self": null,
            "border": null,
            "bottom": null,
            "display": null,
            "flex": "2",
            "flex_flow": null,
            "grid_area": null,
            "grid_auto_columns": null,
            "grid_auto_flow": null,
            "grid_auto_rows": null,
            "grid_column": null,
            "grid_gap": null,
            "grid_row": null,
            "grid_template_areas": null,
            "grid_template_columns": null,
            "grid_template_rows": null,
            "height": null,
            "justify_content": null,
            "justify_items": null,
            "left": null,
            "margin": null,
            "max_height": null,
            "max_width": null,
            "min_height": null,
            "min_width": null,
            "object_fit": null,
            "object_position": null,
            "order": null,
            "overflow": null,
            "overflow_x": null,
            "overflow_y": null,
            "padding": null,
            "right": null,
            "top": null,
            "visibility": null,
            "width": null
          }
        },
        "fecdcb752275406695e808f67e0aa510": {
          "model_module": "@jupyter-widgets/controls",
          "model_name": "ProgressStyleModel",
          "model_module_version": "1.5.0",
          "state": {
            "_model_module": "@jupyter-widgets/controls",
            "_model_module_version": "1.5.0",
            "_model_name": "ProgressStyleModel",
            "_view_count": null,
            "_view_module": "@jupyter-widgets/base",
            "_view_module_version": "1.2.0",
            "_view_name": "StyleView",
            "bar_color": null,
            "description_width": ""
          }
        },
        "899937779ca443bf832536fb13643aff": {
          "model_module": "@jupyter-widgets/base",
          "model_name": "LayoutModel",
          "model_module_version": "1.2.0",
          "state": {
            "_model_module": "@jupyter-widgets/base",
            "_model_module_version": "1.2.0",
            "_model_name": "LayoutModel",
            "_view_count": null,
            "_view_module": "@jupyter-widgets/base",
            "_view_module_version": "1.2.0",
            "_view_name": "LayoutView",
            "align_content": null,
            "align_items": null,
            "align_self": null,
            "border": null,
            "bottom": null,
            "display": null,
            "flex": null,
            "flex_flow": null,
            "grid_area": null,
            "grid_auto_columns": null,
            "grid_auto_flow": null,
            "grid_auto_rows": null,
            "grid_column": null,
            "grid_gap": null,
            "grid_row": null,
            "grid_template_areas": null,
            "grid_template_columns": null,
            "grid_template_rows": null,
            "height": null,
            "justify_content": null,
            "justify_items": null,
            "left": null,
            "margin": null,
            "max_height": null,
            "max_width": null,
            "min_height": null,
            "min_width": null,
            "object_fit": null,
            "object_position": null,
            "order": null,
            "overflow": null,
            "overflow_x": null,
            "overflow_y": null,
            "padding": null,
            "right": null,
            "top": null,
            "visibility": null,
            "width": null
          }
        },
        "dbedc7c98df54d2ca5cf46194d4cf864": {
          "model_module": "@jupyter-widgets/controls",
          "model_name": "DescriptionStyleModel",
          "model_module_version": "1.5.0",
          "state": {
            "_model_module": "@jupyter-widgets/controls",
            "_model_module_version": "1.5.0",
            "_model_name": "DescriptionStyleModel",
            "_view_count": null,
            "_view_module": "@jupyter-widgets/base",
            "_view_module_version": "1.2.0",
            "_view_name": "StyleView",
            "description_width": ""
          }
        }
      }
    }
  },
  "cells": [
    {
      "cell_type": "code",
      "source": [
        "!pip install \"gluonts[torch]\" orjson"
      ],
      "metadata": {
        "id": "aC-_Q7p8kKID",
        "colab": {
          "base_uri": "https://localhost:8080/",
          "height": 1000
        },
        "outputId": "cc6d0bc1-15df-476c-ad76-44a0820dbcf8"
      },
      "execution_count": 1,
      "outputs": [
        {
          "output_type": "stream",
          "name": "stdout",
          "text": [
            "Collecting gluonts[torch]\n",
            "  Downloading gluonts-0.13.2-py3-none-any.whl (1.5 MB)\n",
            "\u001b[2K     \u001b[90m━━━━━━━━━━━━━━━━━━━━━━━━━━━━━━━━━━━━━━━━\u001b[0m \u001b[32m1.5/1.5 MB\u001b[0m \u001b[31m10.0 MB/s\u001b[0m eta \u001b[36m0:00:00\u001b[0m\n",
            "\u001b[?25hCollecting orjson\n",
            "  Downloading orjson-3.9.1-cp310-cp310-manylinux_2_17_x86_64.manylinux2014_x86_64.whl (136 kB)\n",
            "\u001b[2K     \u001b[90m━━━━━━━━━━━━━━━━━━━━━━━━━━━━━━━━━━━━━━\u001b[0m \u001b[32m137.0/137.0 kB\u001b[0m \u001b[31m12.3 MB/s\u001b[0m eta \u001b[36m0:00:00\u001b[0m\n",
            "\u001b[?25hRequirement already satisfied: numpy~=1.16 in /usr/local/lib/python3.10/dist-packages (from gluonts[torch]) (1.22.4)\n",
            "Requirement already satisfied: pandas<3,>=1.0 in /usr/local/lib/python3.10/dist-packages (from gluonts[torch]) (1.5.3)\n",
            "Requirement already satisfied: pydantic~=1.7 in /usr/local/lib/python3.10/dist-packages (from gluonts[torch]) (1.10.9)\n",
            "Requirement already satisfied: tqdm~=4.23 in /usr/local/lib/python3.10/dist-packages (from gluonts[torch]) (4.65.0)\n",
            "Requirement already satisfied: toolz~=0.10 in /usr/local/lib/python3.10/dist-packages (from gluonts[torch]) (0.12.0)\n",
            "Requirement already satisfied: typing-extensions~=4.0 in /usr/local/lib/python3.10/dist-packages (from gluonts[torch]) (4.6.3)\n",
            "Requirement already satisfied: torch<3,>=1.9 in /usr/local/lib/python3.10/dist-packages (from gluonts[torch]) (2.0.1+cu118)\n",
            "Collecting pytorch-lightning<3,>=1.5 (from gluonts[torch])\n",
            "  Downloading pytorch_lightning-2.0.4-py3-none-any.whl (721 kB)\n",
            "\u001b[2K     \u001b[90m━━━━━━━━━━━━━━━━━━━━━━━━━━━━━━━━━━━━━━\u001b[0m \u001b[32m721.2/721.2 kB\u001b[0m \u001b[31m15.0 MB/s\u001b[0m eta \u001b[36m0:00:00\u001b[0m\n",
            "\u001b[?25hCollecting protobuf~=3.19.0 (from gluonts[torch])\n",
            "  Downloading protobuf-3.19.6-cp310-cp310-manylinux_2_17_x86_64.manylinux2014_x86_64.whl (1.1 MB)\n",
            "\u001b[2K     \u001b[90m━━━━━━━━━━━━━━━━━━━━━━━━━━━━━━━━━━━━━━━━\u001b[0m \u001b[32m1.1/1.1 MB\u001b[0m \u001b[31m18.2 MB/s\u001b[0m eta \u001b[36m0:00:00\u001b[0m\n",
            "\u001b[?25hRequirement already satisfied: scipy~=1.10 in /usr/local/lib/python3.10/dist-packages (from gluonts[torch]) (1.10.1)\n",
            "Requirement already satisfied: python-dateutil>=2.8.1 in /usr/local/lib/python3.10/dist-packages (from pandas<3,>=1.0->gluonts[torch]) (2.8.2)\n",
            "Requirement already satisfied: pytz>=2020.1 in /usr/local/lib/python3.10/dist-packages (from pandas<3,>=1.0->gluonts[torch]) (2022.7.1)\n",
            "Requirement already satisfied: PyYAML>=5.4 in /usr/local/lib/python3.10/dist-packages (from pytorch-lightning<3,>=1.5->gluonts[torch]) (6.0)\n",
            "Requirement already satisfied: fsspec[http]>2021.06.0 in /usr/local/lib/python3.10/dist-packages (from pytorch-lightning<3,>=1.5->gluonts[torch]) (2023.6.0)\n",
            "Collecting torchmetrics>=0.7.0 (from pytorch-lightning<3,>=1.5->gluonts[torch])\n",
            "  Downloading torchmetrics-0.11.4-py3-none-any.whl (519 kB)\n",
            "\u001b[2K     \u001b[90m━━━━━━━━━━━━━━━━━━━━━━━━━━━━━━━━━━━━━━\u001b[0m \u001b[32m519.2/519.2 kB\u001b[0m \u001b[31m21.9 MB/s\u001b[0m eta \u001b[36m0:00:00\u001b[0m\n",
            "\u001b[?25hRequirement already satisfied: packaging>=17.1 in /usr/local/lib/python3.10/dist-packages (from pytorch-lightning<3,>=1.5->gluonts[torch]) (23.1)\n",
            "Collecting lightning-utilities>=0.7.0 (from pytorch-lightning<3,>=1.5->gluonts[torch])\n",
            "  Downloading lightning_utilities-0.9.0-py3-none-any.whl (23 kB)\n",
            "Requirement already satisfied: filelock in /usr/local/lib/python3.10/dist-packages (from torch<3,>=1.9->gluonts[torch]) (3.12.2)\n",
            "Requirement already satisfied: sympy in /usr/local/lib/python3.10/dist-packages (from torch<3,>=1.9->gluonts[torch]) (1.11.1)\n",
            "Requirement already satisfied: networkx in /usr/local/lib/python3.10/dist-packages (from torch<3,>=1.9->gluonts[torch]) (3.1)\n",
            "Requirement already satisfied: jinja2 in /usr/local/lib/python3.10/dist-packages (from torch<3,>=1.9->gluonts[torch]) (3.1.2)\n",
            "Requirement already satisfied: triton==2.0.0 in /usr/local/lib/python3.10/dist-packages (from torch<3,>=1.9->gluonts[torch]) (2.0.0)\n",
            "Requirement already satisfied: cmake in /usr/local/lib/python3.10/dist-packages (from triton==2.0.0->torch<3,>=1.9->gluonts[torch]) (3.25.2)\n",
            "Requirement already satisfied: lit in /usr/local/lib/python3.10/dist-packages (from triton==2.0.0->torch<3,>=1.9->gluonts[torch]) (16.0.6)\n",
            "Requirement already satisfied: requests in /usr/local/lib/python3.10/dist-packages (from fsspec[http]>2021.06.0->pytorch-lightning<3,>=1.5->gluonts[torch]) (2.27.1)\n",
            "Requirement already satisfied: aiohttp!=4.0.0a0,!=4.0.0a1 in /usr/local/lib/python3.10/dist-packages (from fsspec[http]>2021.06.0->pytorch-lightning<3,>=1.5->gluonts[torch]) (3.8.4)\n",
            "Requirement already satisfied: six>=1.5 in /usr/local/lib/python3.10/dist-packages (from python-dateutil>=2.8.1->pandas<3,>=1.0->gluonts[torch]) (1.16.0)\n",
            "Requirement already satisfied: MarkupSafe>=2.0 in /usr/local/lib/python3.10/dist-packages (from jinja2->torch<3,>=1.9->gluonts[torch]) (2.1.3)\n",
            "Requirement already satisfied: mpmath>=0.19 in /usr/local/lib/python3.10/dist-packages (from sympy->torch<3,>=1.9->gluonts[torch]) (1.3.0)\n",
            "Requirement already satisfied: attrs>=17.3.0 in /usr/local/lib/python3.10/dist-packages (from aiohttp!=4.0.0a0,!=4.0.0a1->fsspec[http]>2021.06.0->pytorch-lightning<3,>=1.5->gluonts[torch]) (23.1.0)\n",
            "Requirement already satisfied: charset-normalizer<4.0,>=2.0 in /usr/local/lib/python3.10/dist-packages (from aiohttp!=4.0.0a0,!=4.0.0a1->fsspec[http]>2021.06.0->pytorch-lightning<3,>=1.5->gluonts[torch]) (2.0.12)\n",
            "Requirement already satisfied: multidict<7.0,>=4.5 in /usr/local/lib/python3.10/dist-packages (from aiohttp!=4.0.0a0,!=4.0.0a1->fsspec[http]>2021.06.0->pytorch-lightning<3,>=1.5->gluonts[torch]) (6.0.4)\n",
            "Requirement already satisfied: async-timeout<5.0,>=4.0.0a3 in /usr/local/lib/python3.10/dist-packages (from aiohttp!=4.0.0a0,!=4.0.0a1->fsspec[http]>2021.06.0->pytorch-lightning<3,>=1.5->gluonts[torch]) (4.0.2)\n",
            "Requirement already satisfied: yarl<2.0,>=1.0 in /usr/local/lib/python3.10/dist-packages (from aiohttp!=4.0.0a0,!=4.0.0a1->fsspec[http]>2021.06.0->pytorch-lightning<3,>=1.5->gluonts[torch]) (1.9.2)\n",
            "Requirement already satisfied: frozenlist>=1.1.1 in /usr/local/lib/python3.10/dist-packages (from aiohttp!=4.0.0a0,!=4.0.0a1->fsspec[http]>2021.06.0->pytorch-lightning<3,>=1.5->gluonts[torch]) (1.3.3)\n",
            "Requirement already satisfied: aiosignal>=1.1.2 in /usr/local/lib/python3.10/dist-packages (from aiohttp!=4.0.0a0,!=4.0.0a1->fsspec[http]>2021.06.0->pytorch-lightning<3,>=1.5->gluonts[torch]) (1.3.1)\n",
            "Requirement already satisfied: urllib3<1.27,>=1.21.1 in /usr/local/lib/python3.10/dist-packages (from requests->fsspec[http]>2021.06.0->pytorch-lightning<3,>=1.5->gluonts[torch]) (1.26.16)\n",
            "Requirement already satisfied: certifi>=2017.4.17 in /usr/local/lib/python3.10/dist-packages (from requests->fsspec[http]>2021.06.0->pytorch-lightning<3,>=1.5->gluonts[torch]) (2023.5.7)\n",
            "Requirement already satisfied: idna<4,>=2.5 in /usr/local/lib/python3.10/dist-packages (from requests->fsspec[http]>2021.06.0->pytorch-lightning<3,>=1.5->gluonts[torch]) (3.4)\n",
            "Installing collected packages: protobuf, orjson, lightning-utilities, gluonts, torchmetrics, pytorch-lightning\n",
            "  Attempting uninstall: protobuf\n",
            "    Found existing installation: protobuf 3.20.3\n",
            "    Uninstalling protobuf-3.20.3:\n",
            "      Successfully uninstalled protobuf-3.20.3\n",
            "\u001b[31mERROR: pip's dependency resolver does not currently take into account all the packages that are installed. This behaviour is the source of the following dependency conflicts.\n",
            "tensorflow 2.12.0 requires protobuf!=4.21.0,!=4.21.1,!=4.21.2,!=4.21.3,!=4.21.4,!=4.21.5,<5.0.0dev,>=3.20.3, but you have protobuf 3.19.6 which is incompatible.\n",
            "tensorflow-datasets 4.9.2 requires protobuf>=3.20, but you have protobuf 3.19.6 which is incompatible.\n",
            "tensorflow-metadata 1.13.1 requires protobuf<5,>=3.20.3, but you have protobuf 3.19.6 which is incompatible.\u001b[0m\u001b[31m\n",
            "\u001b[0mSuccessfully installed gluonts-0.13.2 lightning-utilities-0.9.0 orjson-3.9.1 protobuf-3.19.6 pytorch-lightning-2.0.4 torchmetrics-0.11.4\n"
          ]
        },
        {
          "output_type": "display_data",
          "data": {
            "application/vnd.colab-display-data+json": {
              "pip_warning": {
                "packages": [
                  "google"
                ]
              }
            }
          },
          "metadata": {}
        }
      ]
    },
    {
      "cell_type": "code",
      "source": [
        "import gluonts, orjson\n",
        "from gluonts.torch import DeepAREstimator, TemporalFusionTransformerEstimator\n",
        "#PyTorchLightningEstimator, PyTorchPredictor, DeepNPTSEstimator, SimpleFeedForwardEstimator, WaveNetEstimator, DLinearEstimator, PatchTSTEstimator, LagTSTEstimator\n",
        "import numpy as np\n",
        "import pandas as pd\n",
        "from gluonts.dataset.pandas import PandasDataset\n",
        "import matplotlib.pyplot as plt"
      ],
      "metadata": {
        "id": "eGibz5jCABLt"
      },
      "execution_count": 1,
      "outputs": []
    },
    {
      "cell_type": "code",
      "source": [
        "def new_ds(df: pd.DataFrame, freq: str='D') -> gluonts.dataset.Dataset:\n",
        "  '''Конвертирует pandas dataframe в датасет.\n",
        "  Входной параметр: df - датафрейм следующего формата: индекс - дата,\n",
        "    target  - обязательная колонка, содержащая целевое значение.\n",
        "  Возвращает датасет в виде Dataset.'''\n",
        "  return PandasDataset(df, target='target', freq=freq)\n",
        "\n",
        "def new_model(ds: gluonts.dataset.Dataset, pred_len: int, estimator: int=0,\n",
        "              epochs: int=20, freq: str='D') -> gluonts.model.Predictor:\n",
        "  '''Получает обученную модель на датасете.\n",
        "  Входные параметры:\n",
        "    ds - датасет для обучения,\n",
        "    pred_len - длина прогноза,\n",
        "    estimator - тип оценки (0 - DeepAREstimator,\n",
        "      1 - TemporalFusionTransformerEstimator)\n",
        "    epochs - количество проходов,\n",
        "    lr - скорость обучения,\n",
        "    freq - таймфрейм.\n",
        "  Возвращает объект.'''\n",
        "  if estimator == 0:\n",
        "    estim = DeepAREstimator(prediction_length=pred_len, freq=freq,\n",
        "                            trainer_kwargs={\"max_epochs\": epochs})\n",
        "  elif estimator == 1:\n",
        "    estim = TemporalFusionTransformerEstimator(prediction_length=pred_len, freq=freq,\n",
        "                                               trainer_kwargs={\"max_epochs\": epochs})\n",
        "  return estim.train(ds)"
      ],
      "metadata": {
        "id": "T1MxLbj6BFac"
      },
      "execution_count": 2,
      "outputs": []
    },
    {
      "cell_type": "code",
      "source": [
        "# Загружаем данные\n",
        "df = pd.read_csv('/content/drive/MyDrive/trainee/Ingate/Ozon/data_ozon.csv',\n",
        "                 parse_dates=['День'])\n",
        "# Переименовываем длинные названия с пробелами и кириллическими буквами\n",
        "dic_ren = {'День': 'timestamp', 'Показы, всего': 'target'}\n",
        "           #'Показы в поиске и каталоге': 'dyn_real_3'}\n",
        "df = df.rename(columns=dic_ren)\n",
        "freq = 'D'\n",
        "# Отбираем только нужные столбцы\n",
        "df = df[['timestamp', 'target']]\n",
        "          #'dyn_real_1', 'dyn_real_2', 'dyn_real_3']]\n",
        "# Отбираем товары с большим количеством заказов\n",
        "df = df.groupby('timestamp').target.sum()\n",
        "# Сортируем по индексу\n",
        "df.sort_index(inplace=True)\n",
        "# Делим на обучающую и проверочные выборки\n",
        "df_train = df.loc[:'2023-05-01']\n",
        "df_val = df.loc['2023-05-01':]\n",
        "# Горизонт прогноза будет равен длине проверочной выборки\n",
        "pred_len = df_val.index.nunique()\n",
        "ds_train = new_ds(df_train)\n",
        "# Обучение\n",
        "model = new_model(ds_train, pred_len, 1)"
      ],
      "metadata": {
        "colab": {
          "base_uri": "https://localhost:8080/",
          "height": 746,
          "referenced_widgets": [
            "4cce6218ddae48b59bf389b15aa63647",
            "10d67faa85bf462f866fa2c0e65bb736",
            "cf47073fcf5340a1b8d644ab2c77be9d",
            "2f300f50446b43b593fc2bb8144c6547",
            "dfa21cfab86749b585cf0891d8df5447",
            "dc7912718b434fb1958ef9ee8c761457",
            "8fe20095241b45178213aca997c1a219",
            "b047a29e3697464a8b90241e6363eed7",
            "fecdcb752275406695e808f67e0aa510",
            "899937779ca443bf832536fb13643aff",
            "dbedc7c98df54d2ca5cf46194d4cf864"
          ]
        },
        "id": "aMAtGFWrZX5_",
        "outputId": "4db43b59-1097-4e9b-f33e-12b5fe86a997"
      },
      "execution_count": 3,
      "outputs": [
        {
          "output_type": "stream",
          "name": "stderr",
          "text": [
            "<ipython-input-3-f66e13f80d01>:2: DtypeWarning: Columns (4) have mixed types. Specify dtype option on import or set low_memory=False.\n",
            "  df = pd.read_csv('/content/drive/MyDrive/trainee/Ingate/Ozon/data_ozon.csv',\n",
            "INFO:pytorch_lightning.utilities.rank_zero:GPU available: False, used: False\n",
            "INFO:pytorch_lightning.utilities.rank_zero:TPU available: False, using: 0 TPU cores\n",
            "INFO:pytorch_lightning.utilities.rank_zero:IPU available: False, using: 0 IPUs\n",
            "INFO:pytorch_lightning.utilities.rank_zero:HPU available: False, using: 0 HPUs\n",
            "/usr/local/lib/python3.10/dist-packages/pytorch_lightning/trainer/configuration_validator.py:70: PossibleUserWarning: You defined a `validation_step` but have no `val_dataloader`. Skipping val loop.\n",
            "  rank_zero_warn(\n",
            "WARNING:pytorch_lightning.loggers.tensorboard:Missing logger folder: /content/lightning_logs\n",
            "INFO:pytorch_lightning.callbacks.model_summary:\n",
            "  | Name  | Type                           | Params | In sizes | Out sizes \n",
            "---------------------------------------------------------------------------------\n",
            "0 | model | TemporalFusionTransformerModel | 109 K  | ?        | [1, 9, 31]\n",
            "---------------------------------------------------------------------------------\n",
            "109 K     Trainable params\n",
            "0         Non-trainable params\n",
            "109 K     Total params\n",
            "0.439     Total estimated model params size (MB)\n"
          ]
        },
        {
          "output_type": "display_data",
          "data": {
            "text/plain": [
              "Training: 0it [00:00, ?it/s]"
            ],
            "application/vnd.jupyter.widget-view+json": {
              "version_major": 2,
              "version_minor": 0,
              "model_id": "4cce6218ddae48b59bf389b15aa63647"
            }
          },
          "metadata": {}
        },
        {
          "output_type": "stream",
          "name": "stderr",
          "text": [
            "INFO:pytorch_lightning.utilities.rank_zero:Epoch 0, global step 50: 'train_loss' reached 107924.10156 (best 107924.10156), saving model to '/content/lightning_logs/version_0/checkpoints/epoch=0-step=50.ckpt' as top 1\n",
            "INFO:pytorch_lightning.utilities.rank_zero:Epoch 1, global step 100: 'train_loss' reached 96373.88281 (best 96373.88281), saving model to '/content/lightning_logs/version_0/checkpoints/epoch=1-step=100.ckpt' as top 1\n",
            "INFO:pytorch_lightning.utilities.rank_zero:Epoch 2, global step 150: 'train_loss' reached 82217.42969 (best 82217.42969), saving model to '/content/lightning_logs/version_0/checkpoints/epoch=2-step=150.ckpt' as top 1\n",
            "INFO:pytorch_lightning.utilities.rank_zero:Epoch 3, global step 200: 'train_loss' reached 69962.09375 (best 69962.09375), saving model to '/content/lightning_logs/version_0/checkpoints/epoch=3-step=200.ckpt' as top 1\n",
            "INFO:pytorch_lightning.utilities.rank_zero:Epoch 4, global step 250: 'train_loss' reached 63914.33594 (best 63914.33594), saving model to '/content/lightning_logs/version_0/checkpoints/epoch=4-step=250.ckpt' as top 1\n",
            "INFO:pytorch_lightning.utilities.rank_zero:Epoch 5, global step 300: 'train_loss' reached 55802.33984 (best 55802.33984), saving model to '/content/lightning_logs/version_0/checkpoints/epoch=5-step=300.ckpt' as top 1\n",
            "INFO:pytorch_lightning.utilities.rank_zero:Epoch 6, global step 350: 'train_loss' reached 52367.31641 (best 52367.31641), saving model to '/content/lightning_logs/version_0/checkpoints/epoch=6-step=350.ckpt' as top 1\n",
            "INFO:pytorch_lightning.utilities.rank_zero:Epoch 7, global step 400: 'train_loss' reached 47540.05859 (best 47540.05859), saving model to '/content/lightning_logs/version_0/checkpoints/epoch=7-step=400.ckpt' as top 1\n",
            "INFO:pytorch_lightning.utilities.rank_zero:Epoch 8, global step 450: 'train_loss' reached 43266.50000 (best 43266.50000), saving model to '/content/lightning_logs/version_0/checkpoints/epoch=8-step=450.ckpt' as top 1\n",
            "INFO:pytorch_lightning.utilities.rank_zero:Epoch 9, global step 500: 'train_loss' reached 41199.24609 (best 41199.24609), saving model to '/content/lightning_logs/version_0/checkpoints/epoch=9-step=500.ckpt' as top 1\n",
            "INFO:pytorch_lightning.utilities.rank_zero:Epoch 10, global step 550: 'train_loss' reached 37953.42578 (best 37953.42578), saving model to '/content/lightning_logs/version_0/checkpoints/epoch=10-step=550.ckpt' as top 1\n",
            "INFO:pytorch_lightning.utilities.rank_zero:Epoch 11, global step 600: 'train_loss' reached 35541.44141 (best 35541.44141), saving model to '/content/lightning_logs/version_0/checkpoints/epoch=11-step=600.ckpt' as top 1\n",
            "INFO:pytorch_lightning.utilities.rank_zero:Epoch 12, global step 650: 'train_loss' reached 34398.43359 (best 34398.43359), saving model to '/content/lightning_logs/version_0/checkpoints/epoch=12-step=650.ckpt' as top 1\n",
            "INFO:pytorch_lightning.utilities.rank_zero:Epoch 13, global step 700: 'train_loss' reached 32426.98828 (best 32426.98828), saving model to '/content/lightning_logs/version_0/checkpoints/epoch=13-step=700.ckpt' as top 1\n",
            "INFO:pytorch_lightning.utilities.rank_zero:Epoch 14, global step 750: 'train_loss' reached 30567.83984 (best 30567.83984), saving model to '/content/lightning_logs/version_0/checkpoints/epoch=14-step=750.ckpt' as top 1\n",
            "INFO:pytorch_lightning.utilities.rank_zero:Epoch 15, global step 800: 'train_loss' reached 27804.00195 (best 27804.00195), saving model to '/content/lightning_logs/version_0/checkpoints/epoch=15-step=800.ckpt' as top 1\n",
            "INFO:pytorch_lightning.utilities.rank_zero:Epoch 16, global step 850: 'train_loss' reached 26259.94336 (best 26259.94336), saving model to '/content/lightning_logs/version_0/checkpoints/epoch=16-step=850.ckpt' as top 1\n",
            "INFO:pytorch_lightning.utilities.rank_zero:Epoch 17, global step 900: 'train_loss' reached 25428.74219 (best 25428.74219), saving model to '/content/lightning_logs/version_0/checkpoints/epoch=17-step=900.ckpt' as top 1\n",
            "INFO:pytorch_lightning.utilities.rank_zero:Epoch 18, global step 950: 'train_loss' reached 23155.40820 (best 23155.40820), saving model to '/content/lightning_logs/version_0/checkpoints/epoch=18-step=950.ckpt' as top 1\n",
            "INFO:pytorch_lightning.utilities.rank_zero:Epoch 19, global step 1000: 'train_loss' reached 23101.64258 (best 23101.64258), saving model to '/content/lightning_logs/version_0/checkpoints/epoch=19-step=1000.ckpt' as top 1\n",
            "INFO:pytorch_lightning.utilities.rank_zero:`Trainer.fit` stopped: `max_epochs=20` reached.\n"
          ]
        }
      ]
    },
    {
      "cell_type": "code",
      "source": [
        "# График\n",
        "ds_val = new_ds(df_val)\n",
        "pred = list(model.predict(ds_val))[0]\n",
        "y_pred = pred.median\n",
        "y_true = df_val.to_numpy(float)\n",
        "x = df_val.index.to_numpy()\n",
        "plt.figure(figsize=(16, 8))\n",
        "plt.plot(x, y_true, label='Факт')\n",
        "plt.plot(x, y_pred, label='Прогноз')\n",
        "plt.legend()\n",
        "plt.show()"
      ],
      "metadata": {
        "id": "3s43487WfcId",
        "colab": {
          "base_uri": "https://localhost:8080/",
          "height": 608
        },
        "outputId": "bc96fcbe-6e7d-4787-c0e1-026e004a7e5e"
      },
      "execution_count": null,
      "outputs": [
        {
          "output_type": "display_data",
          "data": {
            "text/plain": [
              "<Figure size 1600x800 with 1 Axes>"
            ],
            "image/png": "[encoded data removed]"
          },
          "metadata": {}
        }
      ]
    }
  ]
}