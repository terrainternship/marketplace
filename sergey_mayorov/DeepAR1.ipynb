{
  "nbformat": 4,
  "nbformat_minor": 0,
  "metadata": {
    "colab": {
      "provenance": []
    },
    "kernelspec": {
      "name": "python3",
      "display_name": "Python 3"
    },
    "language_info": {
      "name": "python"
    }
  },
  "cells": [
    {
      "cell_type": "markdown",
      "source": [
        "Original https://ts.gluon.ai/stable/tutorials/forecasting/quick_start_tutorial.html"
      ],
      "metadata": {
        "id": "az1DbddAYNGl"
      }
    },
    {
      "cell_type": "code",
      "source": [
        "# Установка библиотек\n",
        "!pip install --upgrade mxnet\n",
        "!pip install gluonts\n",
        "# необходима для ускорения работы с json\n",
        "!pip install orjson"
      ],
      "metadata": {
        "id": "aC-_Q7p8kKID",
        "colab": {
          "base_uri": "https://localhost:8080/"
        },
        "outputId": "f40ecf34-5489-46db-b739-2ce1749e6cbb"
      },
      "execution_count": null,
      "outputs": [
        {
          "output_type": "stream",
          "name": "stdout",
          "text": [
            "Looking in indexes: https://pypi.org/simple, https://us-python.pkg.dev/colab-wheels/public/simple/\n",
            "Collecting mxnet\n",
            "  Downloading mxnet-1.9.1-py3-none-manylinux2014_x86_64.whl (49.1 MB)\n",
            "\u001b[2K     \u001b[90m━━━━━━━━━━━━━━━━━━━━━━━━━━━━━━━━━━━━━━━━\u001b[0m \u001b[32m49.1/49.1 MB\u001b[0m \u001b[31m13.7 MB/s\u001b[0m eta \u001b[36m0:00:00\u001b[0m\n",
            "\u001b[?25hRequirement already satisfied: numpy<2.0.0,>1.16.0 in /usr/local/lib/python3.10/dist-packages (from mxnet) (1.22.4)\n",
            "Requirement already satisfied: requests<3,>=2.20.0 in /usr/local/lib/python3.10/dist-packages (from mxnet) (2.27.1)\n",
            "Collecting graphviz<0.9.0,>=0.8.1 (from mxnet)\n",
            "  Downloading graphviz-0.8.4-py2.py3-none-any.whl (16 kB)\n",
            "Requirement already satisfied: urllib3<1.27,>=1.21.1 in /usr/local/lib/python3.10/dist-packages (from requests<3,>=2.20.0->mxnet) (1.26.15)\n",
            "Requirement already satisfied: certifi>=2017.4.17 in /usr/local/lib/python3.10/dist-packages (from requests<3,>=2.20.0->mxnet) (2022.12.7)\n",
            "Requirement already satisfied: charset-normalizer~=2.0.0 in /usr/local/lib/python3.10/dist-packages (from requests<3,>=2.20.0->mxnet) (2.0.12)\n",
            "Requirement already satisfied: idna<4,>=2.5 in /usr/local/lib/python3.10/dist-packages (from requests<3,>=2.20.0->mxnet) (3.4)\n",
            "Installing collected packages: graphviz, mxnet\n",
            "  Attempting uninstall: graphviz\n",
            "    Found existing installation: graphviz 0.20.1\n",
            "    Uninstalling graphviz-0.20.1:\n",
            "      Successfully uninstalled graphviz-0.20.1\n",
            "Successfully installed graphviz-0.8.4 mxnet-1.9.1\n",
            "Looking in indexes: https://pypi.org/simple, https://us-python.pkg.dev/colab-wheels/public/simple/\n",
            "Collecting gluonts\n",
            "  Downloading gluonts-0.13.2-py3-none-any.whl (1.5 MB)\n",
            "\u001b[2K     \u001b[90m━━━━━━━━━━━━━━━━━━━━━━━━━━━━━━━━━━━━━━━━\u001b[0m \u001b[32m1.5/1.5 MB\u001b[0m \u001b[31m18.5 MB/s\u001b[0m eta \u001b[36m0:00:00\u001b[0m\n",
            "\u001b[?25hRequirement already satisfied: numpy~=1.16 in /usr/local/lib/python3.10/dist-packages (from gluonts) (1.22.4)\n",
            "Requirement already satisfied: pandas<3,>=1.0 in /usr/local/lib/python3.10/dist-packages (from gluonts) (1.5.3)\n",
            "Requirement already satisfied: pydantic~=1.7 in /usr/local/lib/python3.10/dist-packages (from gluonts) (1.10.7)\n",
            "Requirement already satisfied: tqdm~=4.23 in /usr/local/lib/python3.10/dist-packages (from gluonts) (4.65.0)\n",
            "Requirement already satisfied: toolz~=0.10 in /usr/local/lib/python3.10/dist-packages (from gluonts) (0.12.0)\n",
            "Requirement already satisfied: typing-extensions~=4.0 in /usr/local/lib/python3.10/dist-packages (from gluonts) (4.5.0)\n",
            "Requirement already satisfied: python-dateutil>=2.8.1 in /usr/local/lib/python3.10/dist-packages (from pandas<3,>=1.0->gluonts) (2.8.2)\n",
            "Requirement already satisfied: pytz>=2020.1 in /usr/local/lib/python3.10/dist-packages (from pandas<3,>=1.0->gluonts) (2022.7.1)\n",
            "Requirement already satisfied: six>=1.5 in /usr/local/lib/python3.10/dist-packages (from python-dateutil>=2.8.1->pandas<3,>=1.0->gluonts) (1.16.0)\n",
            "Installing collected packages: gluonts\n",
            "Successfully installed gluonts-0.13.2\n",
            "Looking in indexes: https://pypi.org/simple, https://us-python.pkg.dev/colab-wheels/public/simple/\n",
            "Collecting orjson\n",
            "  Downloading orjson-3.9.1-cp310-cp310-manylinux_2_17_x86_64.manylinux2014_x86_64.whl (136 kB)\n",
            "\u001b[2K     \u001b[90m━━━━━━━━━━━━━━━━━━━━━━━━━━━━━━━━━━━━━━━\u001b[0m \u001b[32m137.0/137.0 kB\u001b[0m \u001b[31m3.8 MB/s\u001b[0m eta \u001b[36m0:00:00\u001b[0m\n",
            "\u001b[?25hInstalling collected packages: orjson\n",
            "Successfully installed orjson-3.9.1\n"
          ]
        }
      ]
    },
    {
      "cell_type": "code",
      "source": [
        "# Подключение библиотек\n",
        "import gluonts\n",
        "import orjson\n",
        "from gluonts.mx.model.deepar import DeepAREstimator\n",
        "from gluonts.mx.trainer import Trainer\n",
        "import numpy as np\n",
        "import pandas as pd\n",
        "from gluonts.dataset.common import ListDataset"
      ],
      "metadata": {
        "id": "eGibz5jCABLt"
      },
      "execution_count": null,
      "outputs": []
    },
    {
      "cell_type": "code",
      "source": [
        "# Формирование датасета с синтетическими данными\n",
        "n_param = 10\n",
        "t_x = 100\n",
        "prediction_length = 24\n",
        "freq = \"1H\"\n",
        "custom_dataset = np.random.normal(size=(n_param, t_x))\n",
        "custom_dataset[:, :10]"
      ],
      "metadata": {
        "id": "joievnYxApN-",
        "colab": {
          "base_uri": "https://localhost:8080/"
        },
        "outputId": "55c527a5-dd91-40d5-ff62-f56171e3ec5a"
      },
      "execution_count": null,
      "outputs": [
        {
          "output_type": "execute_result",
          "data": {
            "text/plain": [
              "array([[ 1.68069246e+00,  5.74003070e-01,  1.52479149e+00,\n",
              "         3.19004636e-02,  2.81632431e-01,  1.58652970e+00,\n",
              "        -6.92973181e-01,  5.63699597e-01,  9.68303898e-01,\n",
              "         1.73423124e+00],\n",
              "       [ 6.57734094e-01,  7.19727562e-01,  4.25360129e-01,\n",
              "        -2.36173562e-01, -1.65090383e+00, -7.85522163e-01,\n",
              "        -7.21579340e-01, -3.49592079e-02, -1.88068711e+00,\n",
              "         8.92755227e-01],\n",
              "       [-9.51790918e-01, -4.58778136e-01, -3.22186314e-02,\n",
              "         5.42216000e-01, -2.23946029e-01, -1.63267266e+00,\n",
              "        -1.11794393e-01,  1.01837388e+00, -1.85264626e-01,\n",
              "         1.00322485e-01],\n",
              "       [-1.05951004e+00,  1.33038718e+00, -8.55010410e-01,\n",
              "         8.87951606e-01, -2.55805410e-01,  1.94788541e+00,\n",
              "        -5.88321087e-01, -5.99901016e-02, -6.66615464e-01,\n",
              "        -4.11369191e-01],\n",
              "       [-5.59564176e-01,  6.70617420e-01,  4.32866603e-01,\n",
              "         4.99274524e-01,  3.90392817e-01,  1.21583843e+00,\n",
              "        -2.45289715e+00, -8.25874245e-01,  1.63869638e+00,\n",
              "        -9.11015431e-01],\n",
              "       [ 8.29408292e-02, -8.04818792e-01, -2.98622524e-01,\n",
              "        -5.60077716e-01,  1.69659659e+00, -9.49540731e-02,\n",
              "         5.98242550e-01,  9.37259042e-01, -1.16997065e+00,\n",
              "        -8.84344890e-01],\n",
              "       [ 1.12302611e-01, -3.96630051e-01, -4.17137703e-01,\n",
              "         9.41589913e-01, -2.66189503e-01, -4.73776143e-01,\n",
              "         8.11641025e-01,  8.98335439e-01, -3.79699132e-01,\n",
              "         9.03829065e-01],\n",
              "       [-9.73671341e-01, -4.02105059e-01, -1.31126984e+00,\n",
              "        -2.37975215e-02, -8.07092506e-02, -4.76813604e-01,\n",
              "        -7.97311052e-01, -5.69501386e-01, -1.47113644e-03,\n",
              "        -5.57432837e-02],\n",
              "       [ 1.16941208e+00,  7.25316940e-01,  5.22796203e-01,\n",
              "         1.76144478e-01, -1.48101762e-01,  6.83503613e-01,\n",
              "        -1.21279024e+00, -3.12077394e-01,  2.08374867e+00,\n",
              "         6.47758413e-01],\n",
              "       [ 2.20078871e+00,  1.06000557e+00,  7.84760561e-02,\n",
              "        -1.28111239e+00, -2.28215289e-01,  1.55174589e-01,\n",
              "         8.90913197e-01, -2.07267195e-02,  7.73262743e-01,\n",
              "         4.32299049e-01]])"
            ]
          },
          "metadata": {},
          "execution_count": 3
        }
      ]
    },
    {
      "cell_type": "code",
      "source": [
        "start = pd.Period(\"01-01-2019\", freq=freq)\n",
        "# Обучающая выборка\n",
        "ls_train = [{\"target\": x, \"start\": start} for x in custom_dataset[:,\n",
        "                                                          :-prediction_length]]\n",
        "train_ds = ListDataset(ls_train, freq=freq)\n",
        "len(train_ds[4].get('target')), train_ds[4].get('start')"
      ],
      "metadata": {
        "colab": {
          "base_uri": "https://localhost:8080/"
        },
        "id": "_dZCHerNxcKZ",
        "outputId": "12e12d6b-a452-444f-d1bf-2112d21ffd1c"
      },
      "execution_count": null,
      "outputs": [
        {
          "output_type": "execute_result",
          "data": {
            "text/plain": [
              "(76, Period('2019-01-01 00:00', 'H'))"
            ]
          },
          "metadata": {},
          "execution_count": 9
        }
      ]
    },
    {
      "cell_type": "code",
      "source": [
        "# test dataset: use the whole dataset, add \"target\" and \"start\" fields\n",
        "test_ds = ListDataset(\n",
        "    [{\"target\": x, \"start\": start} for x in custom_dataset], freq=freq\n",
        ")\n",
        "trainer = Trainer(epochs=20, learning_rate=1e-3)\n",
        "# batch_size=512, patience=5\n",
        "estimator = DeepAREstimator(freq=freq, context_length=24 * 5, ## context length is number of time steps will look back here it is 5 days\n",
        "                            prediction_length=prediction_length, cardinality=[1],\n",
        "                            num_layers=2, dropout_rate = 0.25)\n",
        "#use_feat_static_cat=True, num_cells=32, cell_type='lstm', trainer=trainer\n",
        "predictor = estimator.train(train_ds)"
      ],
      "metadata": {
        "id": "BZcPbYkXzvno"
      },
      "execution_count": null,
      "outputs": []
    }
  ]
}