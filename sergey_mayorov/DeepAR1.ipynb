{
  "nbformat": 4,
  "nbformat_minor": 0,
  "metadata": {
    "colab": {
      "provenance": []
    },
    "kernelspec": {
      "name": "python3",
      "display_name": "Python 3"
    },
    "language_info": {
      "name": "python"
    }
  },
  "cells": [
    {
      "cell_type": "markdown",
      "source": [
        "Original https://ts.gluon.ai/stable/tutorials/forecasting/quick_start_tutorial.html"
      ],
      "metadata": {
        "id": "az1DbddAYNGl"
      }
    },
    {
      "cell_type": "code",
      "source": [
        "!pip install --upgrade mxnet\n",
        "#==1.6.0\n",
        "!pip install gluonts\n",
        "#!pip install pytorch-lightning\n",
        "!pip install orjson"
      ],
      "metadata": {
        "id": "aC-_Q7p8kKID",
        "colab": {
          "base_uri": "https://localhost:8080/"
        },
        "outputId": "cd13ea5f-317a-41a0-9a8a-39b6e5058f1f"
      },
      "execution_count": null,
      "outputs": [
        {
          "output_type": "stream",
          "name": "stdout",
          "text": [
            "Looking in indexes: https://pypi.org/simple, https://us-python.pkg.dev/colab-wheels/public/simple/\n",
            "Requirement already satisfied: mxnet in /usr/local/lib/python3.10/dist-packages (1.9.1)\n",
            "Requirement already satisfied: numpy<2.0.0,>1.16.0 in /usr/local/lib/python3.10/dist-packages (from mxnet) (1.22.4)\n",
            "Requirement already satisfied: requests<3,>=2.20.0 in /usr/local/lib/python3.10/dist-packages (from mxnet) (2.27.1)\n",
            "Requirement already satisfied: graphviz<0.9.0,>=0.8.1 in /usr/local/lib/python3.10/dist-packages (from mxnet) (0.8.4)\n",
            "Requirement already satisfied: urllib3<1.27,>=1.21.1 in /usr/local/lib/python3.10/dist-packages (from requests<3,>=2.20.0->mxnet) (1.26.15)\n",
            "Requirement already satisfied: certifi>=2017.4.17 in /usr/local/lib/python3.10/dist-packages (from requests<3,>=2.20.0->mxnet) (2022.12.7)\n",
            "Requirement already satisfied: charset-normalizer~=2.0.0 in /usr/local/lib/python3.10/dist-packages (from requests<3,>=2.20.0->mxnet) (2.0.12)\n",
            "Requirement already satisfied: idna<4,>=2.5 in /usr/local/lib/python3.10/dist-packages (from requests<3,>=2.20.0->mxnet) (3.4)\n",
            "Looking in indexes: https://pypi.org/simple, https://us-python.pkg.dev/colab-wheels/public/simple/\n",
            "Requirement already satisfied: gluonts in /usr/local/lib/python3.10/dist-packages (0.13.2)\n",
            "Requirement already satisfied: numpy~=1.16 in /usr/local/lib/python3.10/dist-packages (from gluonts) (1.22.4)\n",
            "Requirement already satisfied: pandas<3,>=1.0 in /usr/local/lib/python3.10/dist-packages (from gluonts) (1.5.3)\n",
            "Requirement already satisfied: pydantic~=1.7 in /usr/local/lib/python3.10/dist-packages (from gluonts) (1.10.7)\n",
            "Requirement already satisfied: tqdm~=4.23 in /usr/local/lib/python3.10/dist-packages (from gluonts) (4.65.0)\n",
            "Requirement already satisfied: toolz~=0.10 in /usr/local/lib/python3.10/dist-packages (from gluonts) (0.12.0)\n",
            "Requirement already satisfied: typing-extensions~=4.0 in /usr/local/lib/python3.10/dist-packages (from gluonts) (4.5.0)\n",
            "Requirement already satisfied: python-dateutil>=2.8.1 in /usr/local/lib/python3.10/dist-packages (from pandas<3,>=1.0->gluonts) (2.8.2)\n",
            "Requirement already satisfied: pytz>=2020.1 in /usr/local/lib/python3.10/dist-packages (from pandas<3,>=1.0->gluonts) (2022.7.1)\n",
            "Requirement already satisfied: six>=1.5 in /usr/local/lib/python3.10/dist-packages (from python-dateutil>=2.8.1->pandas<3,>=1.0->gluonts) (1.16.0)\n",
            "Looking in indexes: https://pypi.org/simple, https://us-python.pkg.dev/colab-wheels/public/simple/\n",
            "Collecting orjson\n",
            "  Downloading orjson-3.9.1-cp310-cp310-manylinux_2_17_x86_64.manylinux2014_x86_64.whl (136 kB)\n",
            "\u001b[2K     \u001b[90m━━━━━━━━━━━━━━━━━━━━━━━━━━━━━━━━━━━━━━━\u001b[0m \u001b[32m137.0/137.0 kB\u001b[0m \u001b[31m4.4 MB/s\u001b[0m eta \u001b[36m0:00:00\u001b[0m\n",
            "\u001b[?25hInstalling collected packages: orjson\n",
            "Successfully installed orjson-3.9.1\n"
          ]
        }
      ]
    },
    {
      "cell_type": "code",
      "source": [
        "import gluonts\n",
        "import orjson\n",
        "#from gluonts.torch.model.deepar import DeepAREstimator\n",
        "from gluonts.mx.model.deepar import DeepAREstimator\n",
        "from gluonts.mx.trainer import Trainer\n",
        "import numpy as np\n",
        "import pandas as pd\n",
        "from gluonts.dataset.common import ListDataset"
      ],
      "metadata": {
        "id": "eGibz5jCABLt"
      },
      "execution_count": null,
      "outputs": []
    },
    {
      "cell_type": "code",
      "source": [
        "N = 10  # number of time series\n",
        "T = 100  # number of timesteps\n",
        "prediction_length = 24\n",
        "freq = \"1H\"\n",
        "custom_dataset = np.random.normal(size=(N, T))\n",
        "start = pd.Period(\"01-01-2019\", freq=freq)  # can be different for each time series\n",
        "# train dataset: cut the last window of length \"prediction_length\", add \"target\" and \"start\" fields\n",
        "train_ds = ListDataset(\n",
        "    [{\"target\": x, \"start\": start} for x in custom_dataset[:, :-prediction_length]],\n",
        "    freq=freq,\n",
        ")\n",
        "# test dataset: use the whole dataset, add \"target\" and \"start\" fields\n",
        "test_ds = ListDataset(\n",
        "    [{\"target\": x, \"start\": start} for x in custom_dataset], freq=freq\n",
        ")\n",
        "trainer = Trainer(epochs=20, learning_rate=1e-3)\n",
        "# batch_size=512, patience=5\n",
        "estimator = DeepAREstimator(freq=freq, context_length=24 * 5, ## context length is number of time steps will look back here it is 5 days\n",
        "                            prediction_length=prediction_length, cardinality=[1],\n",
        "                            num_layers=2, dropout_rate = 0.25)\n",
        "#use_feat_static_cat=True, num_cells=32, cell_type='lstm', trainer=trainer\n",
        "predictor = estimator.train(train_ds)"
      ],
      "metadata": {
        "id": "joievnYxApN-",
        "colab": {
          "base_uri": "https://localhost:8080/"
        },
        "outputId": "b2d5324e-d76f-4171-8a46-476e5fd6d7a6"
      },
      "execution_count": null,
      "outputs": [
        {
          "output_type": "stream",
          "name": "stderr",
          "text": [
            "100%|██████████| 50/50 [00:14<00:00,  3.53it/s, epoch=1/100, avg_epoch_loss=1.44]\n",
            "100%|██████████| 50/50 [00:13<00:00,  3.79it/s, epoch=2/100, avg_epoch_loss=1.36]\n",
            "100%|██████████| 50/50 [00:13<00:00,  3.75it/s, epoch=3/100, avg_epoch_loss=1.29]\n",
            "100%|██████████| 50/50 [00:13<00:00,  3.78it/s, epoch=4/100, avg_epoch_loss=1.21]\n",
            "100%|██████████| 50/50 [00:13<00:00,  3.76it/s, epoch=5/100, avg_epoch_loss=1.13]\n",
            "100%|██████████| 50/50 [00:14<00:00,  3.55it/s, epoch=6/100, avg_epoch_loss=1.06]\n",
            "100%|██████████| 50/50 [00:15<00:00,  3.32it/s, epoch=7/100, avg_epoch_loss=0.982]\n",
            "100%|██████████| 50/50 [00:13<00:00,  3.82it/s, epoch=8/100, avg_epoch_loss=0.906]\n",
            "100%|██████████| 50/50 [00:12<00:00,  3.94it/s, epoch=9/100, avg_epoch_loss=0.848]\n",
            "100%|██████████| 50/50 [00:12<00:00,  3.91it/s, epoch=10/100, avg_epoch_loss=0.794]\n",
            "100%|██████████| 50/50 [00:12<00:00,  3.86it/s, epoch=11/100, avg_epoch_loss=0.738]\n",
            "100%|██████████| 50/50 [00:13<00:00,  3.73it/s, epoch=12/100, avg_epoch_loss=0.697]\n",
            "100%|██████████| 50/50 [00:13<00:00,  3.74it/s, epoch=13/100, avg_epoch_loss=0.644]\n",
            "100%|██████████| 50/50 [00:13<00:00,  3.73it/s, epoch=14/100, avg_epoch_loss=0.616]\n",
            "100%|██████████| 50/50 [00:13<00:00,  3.74it/s, epoch=15/100, avg_epoch_loss=0.574]\n",
            "100%|██████████| 50/50 [00:13<00:00,  3.72it/s, epoch=16/100, avg_epoch_loss=0.542]\n",
            "100%|██████████| 50/50 [00:13<00:00,  3.71it/s, epoch=17/100, avg_epoch_loss=0.509]\n",
            "100%|██████████| 50/50 [00:13<00:00,  3.72it/s, epoch=18/100, avg_epoch_loss=0.466]\n",
            "100%|██████████| 50/50 [00:13<00:00,  3.72it/s, epoch=19/100, avg_epoch_loss=0.44] \n",
            "100%|██████████| 50/50 [00:13<00:00,  3.70it/s, epoch=20/100, avg_epoch_loss=0.413]\n",
            "100%|██████████| 50/50 [00:13<00:00,  3.72it/s, epoch=21/100, avg_epoch_loss=0.375]\n",
            "100%|██████████| 50/50 [00:13<00:00,  3.73it/s, epoch=22/100, avg_epoch_loss=0.35] \n",
            "100%|██████████| 50/50 [00:13<00:00,  3.70it/s, epoch=23/100, avg_epoch_loss=0.324]\n",
            "100%|██████████| 50/50 [00:13<00:00,  3.71it/s, epoch=24/100, avg_epoch_loss=0.293]\n",
            "100%|██████████| 50/50 [00:13<00:00,  3.74it/s, epoch=25/100, avg_epoch_loss=0.274]\n",
            "100%|██████████| 50/50 [00:13<00:00,  3.85it/s, epoch=26/100, avg_epoch_loss=0.24] \n",
            "100%|██████████| 50/50 [00:13<00:00,  3.82it/s, epoch=27/100, avg_epoch_loss=0.228]\n",
            "100%|██████████| 50/50 [00:14<00:00,  3.39it/s, epoch=28/100, avg_epoch_loss=0.189]\n",
            "100%|██████████| 50/50 [00:13<00:00,  3.73it/s, epoch=29/100, avg_epoch_loss=0.178]\n",
            "100%|██████████| 50/50 [00:13<00:00,  3.72it/s, epoch=30/100, avg_epoch_loss=0.167]\n",
            "100%|██████████| 50/50 [00:13<00:00,  3.71it/s, epoch=31/100, avg_epoch_loss=0.127]\n",
            "100%|██████████| 50/50 [00:13<00:00,  3.67it/s, epoch=32/100, avg_epoch_loss=0.118]\n",
            "100%|██████████| 50/50 [00:13<00:00,  3.68it/s, epoch=33/100, avg_epoch_loss=0.0718]\n",
            "100%|██████████| 50/50 [00:13<00:00,  3.66it/s, epoch=34/100, avg_epoch_loss=0.0705]\n",
            "100%|██████████| 50/50 [00:13<00:00,  3.65it/s, epoch=35/100, avg_epoch_loss=0.0558]\n",
            "100%|██████████| 50/50 [00:13<00:00,  3.63it/s, epoch=36/100, avg_epoch_loss=0.0369]\n",
            "100%|██████████| 50/50 [00:13<00:00,  3.64it/s, epoch=37/100, avg_epoch_loss=0.0143]\n",
            "100%|██████████| 50/50 [00:13<00:00,  3.63it/s, epoch=38/100, avg_epoch_loss=-.00402]\n",
            "100%|██████████| 50/50 [00:13<00:00,  3.65it/s, epoch=39/100, avg_epoch_loss=0.00199]\n",
            "100%|██████████| 50/50 [00:13<00:00,  3.67it/s, epoch=40/100, avg_epoch_loss=-.0268]\n",
            "100%|██████████| 50/50 [00:13<00:00,  3.68it/s, epoch=41/100, avg_epoch_loss=-.0491]\n",
            "100%|██████████| 50/50 [00:13<00:00,  3.64it/s, epoch=42/100, avg_epoch_loss=-.0754]\n",
            "100%|██████████| 50/50 [00:13<00:00,  3.65it/s, epoch=43/100, avg_epoch_loss=-.0814]\n",
            "100%|██████████| 50/50 [00:13<00:00,  3.65it/s, epoch=44/100, avg_epoch_loss=-.0963]\n",
            "100%|██████████| 50/50 [00:13<00:00,  3.64it/s, epoch=45/100, avg_epoch_loss=-.107]\n",
            "100%|██████████| 50/50 [00:13<00:00,  3.65it/s, epoch=46/100, avg_epoch_loss=-.127]\n",
            "100%|██████████| 50/50 [00:13<00:00,  3.67it/s, epoch=47/100, avg_epoch_loss=-.141]\n",
            "100%|██████████| 50/50 [00:15<00:00,  3.28it/s, epoch=48/100, avg_epoch_loss=-.158]\n",
            "100%|██████████| 50/50 [00:13<00:00,  3.68it/s, epoch=49/100, avg_epoch_loss=-.167]\n",
            "100%|██████████| 50/50 [00:13<00:00,  3.67it/s, epoch=50/100, avg_epoch_loss=-.192]\n",
            "  2%|▏         | 1/50 [00:00<00:24,  1.97it/s, epoch=51/100, avg_epoch_loss=-.228]\n",
            "/usr/local/lib/python3.10/dist-packages/gluonts/mx/trainer/_base.py:484: UserWarning: Detected KeyboardInterrupt, attempting graceful shutdown...\n",
            "  warnings.warn(\n"
          ]
        }
      ]
    }
  ]
}